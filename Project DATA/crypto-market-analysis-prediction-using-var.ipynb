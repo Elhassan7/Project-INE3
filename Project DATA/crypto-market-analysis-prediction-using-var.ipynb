{
 "cells": [
  {
   "attachments": {},
   "cell_type": "markdown",
   "id": "divine-tournament",
   "metadata": {
    "_cell_guid": "b1076dfc-b9ad-4769-8c92-a6c4dae69d19",
    "_uuid": "8f2839f25d086af736a60e9eeb907d3b93b6e0e5",
    "papermill": {
     "duration": 0.030416,
     "end_time": "2021-06-18T05:36:27.297549",
     "exception": false,
     "start_time": "2021-06-18T05:36:27.267133",
     "status": "completed"
    },
    "tags": []
   },
   "source": [
    " # Crypto Market Analysis + Prediction using VAR\n",
    "\n",
    "**Dans ce notebook, on va analyser et prédire le prix de la crypto-monnaie Polygon Matic.**\n",
    "\n",
    "![Polygon-MATIC-Mark-Cuban.jpeg](https://upload.wikimedia.org/wikipedia/fr/thumb/7/76/Polygon_blockchain_logo.svg/1200px-Polygon_blockchain_logo.svg.png)\n",
    "\n",
    "Polygon is a protocol and a framework for building and connecting Ethereum-compatible blockchain networks. Aggregating scalable solutions on Ethereum supporting a multi-chain Ethereum ecosystem.\n",
    "\n",
    "**Built by developers, for developers**\n",
    "\n",
    "Polygon combines the best of Ethereum and sovereign blockchains into a full-fledged multi-chain system.\n",
    "\n",
    "Polygon solves pain points associated with Blockchains, like high gas fees and slow speeds, without sacrificing on security. This multi-chain system is akin to other ones such as Polkadot, Cosmos, Avalanche etc, but with at least three major upsides:\n",
    "- It is able to fully benefit from Ethereum’s network effects\n",
    "- It is inherently more secure\n",
    "- It is more open and powerful\n",
    "\n",
    "**Polygon - a protocol and a framework for building and connecting Ethereum-compatible blockchain networks.**\n",
    "\n",
    "- One-click deployment of preset blockchain networks\n",
    "- Growing set of modules for developing custom networks\n",
    "- Interoperability protocol for exchanging arbitrary messages with Ethereum and other blockchain networks\n",
    "- Modular and optional “security as a service”\n",
    "- Adaptor modules for enabling interoperability for existing blockchain networks\n"
   ]
  },
  {
   "cell_type": "markdown",
   "id": "broke-intake",
   "metadata": {
    "papermill": {
     "duration": 0.029026,
     "end_time": "2021-06-18T05:36:27.355062",
     "exception": false,
     "start_time": "2021-06-18T05:36:27.326036",
     "status": "completed"
    },
    "tags": []
   },
   "source": [
    "# Import Libraries"
   ]
  },
  {
   "cell_type": "code",
   "execution_count": null,
   "id": "d4426b8e",
   "metadata": {},
   "outputs": [],
   "source": [
    "!pip install pmdarima\n",
    "!pip install beautifulsoup4"
   ]
  },
  {
   "cell_type": "code",
   "execution_count": 1,
   "id": "sealed-genealogy",
   "metadata": {
    "execution": {
     "iopub.execute_input": "2021-06-18T05:36:27.426161Z",
     "iopub.status.busy": "2021-06-18T05:36:27.425097Z",
     "iopub.status.idle": "2021-06-18T05:36:44.619451Z",
     "shell.execute_reply": "2021-06-18T05:36:44.618556Z",
     "shell.execute_reply.started": "2021-06-18T05:19:07.779085Z"
    },
    "papermill": {
     "duration": 17.233771,
     "end_time": "2021-06-18T05:36:44.619671",
     "exception": false,
     "start_time": "2021-06-18T05:36:27.385900",
     "status": "completed"
    },
    "tags": []
   },
   "outputs": [],
   "source": [
    "import numpy as np \n",
    "import pandas as pd \n",
    "from bs4 import BeautifulSoup\n",
    "import datetime\n",
    "import requests\n",
    "import json\n",
    "from pmdarima.utils import diff_inv\n",
    "import matplotlib.pyplot as plt\n",
    "%matplotlib inline\n",
    "from statsmodels.tsa.api import VAR\n",
    "import seaborn as sns\n",
    "from statsmodels.tsa.stattools import adfuller\n",
    "import warnings\n",
    "warnings.filterwarnings(\"ignore\")"
   ]
  },
  {
   "cell_type": "markdown",
   "id": "secure-cylinder",
   "metadata": {
    "papermill": {
     "duration": 0.02976,
     "end_time": "2021-06-18T05:36:44.680779",
     "exception": false,
     "start_time": "2021-06-18T05:36:44.651019",
     "status": "completed"
    },
    "tags": []
   },
   "source": [
    "# Scraping Polygon (MATIC) data"
   ]
  },
  {
   "attachments": {},
   "cell_type": "markdown",
   "id": "20534238",
   "metadata": {},
   "source": [
    "dans nou"
   ]
  },
  {
   "cell_type": "code",
   "execution_count": 2,
   "id": "running-mechanism",
   "metadata": {
    "execution": {
     "iopub.execute_input": "2021-06-18T05:36:44.751099Z",
     "iopub.status.busy": "2021-06-18T05:36:44.748437Z",
     "iopub.status.idle": "2021-06-18T05:36:45.002892Z",
     "shell.execute_reply": "2021-06-18T05:36:45.003311Z",
     "shell.execute_reply.started": "2021-06-18T04:00:02.908320Z"
    },
    "papermill": {
     "duration": 0.292051,
     "end_time": "2021-06-18T05:36:45.003514",
     "exception": false,
     "start_time": "2021-06-18T05:36:44.711463",
     "status": "completed"
    },
    "tags": []
   },
   "outputs": [],
   "source": [
    "url = 'https://api.coinmarketcap.com/data-api/v3/cryptocurrency/historical?id=3890&convertId=2781&timeStart=1592362879&timeEnd=1623898879'\n",
    "matic_data = requests.get(url)\n",
    "soup = BeautifulSoup(matic_data.content,\"html.parser\")\n",
    "txt = soup.get_text()\n",
    "data = json.loads(txt)\n",
    "data_final = list(data.get('data').values())\n",
    "data_final = data_final[3]\n",
    "li = []\n",
    "for i in range(len(data_final)):\n",
    "    val = list(data_final[i].get('quote').values())\n",
    "    li.append(val)\n",
    "df = pd.DataFrame(li)\n",
    "df.columns = ['open','high','low','close','volume','marketCap','date']"
   ]
  },
  {
   "cell_type": "code",
   "execution_count": 3,
   "id": "60910c33",
   "metadata": {},
   "outputs": [
    {
     "data": {
      "text/plain": [
       "[{'timeOpen': '2020-06-18T00:00:00.000Z',\n",
       "  'timeClose': '2020-06-18T23:59:59.999Z',\n",
       "  'timeHigh': '2020-06-18T07:40:08.000Z',\n",
       "  'timeLow': '2020-06-18T16:04:18.000Z',\n",
       "  'quote': {'open': 0.0207378015,\n",
       "   'high': 0.0207674317,\n",
       "   'low': 0.020227139,\n",
       "   'close': 0.0204702274,\n",
       "   'volume': 16152913.2076186,\n",
       "   'marketCap': 71351278.6432493,\n",
       "   'timestamp': '2020-06-18T23:59:59.999Z'}},\n",
       " {'timeOpen': '2020-06-21T00:00:00.000Z',\n",
       "  'timeClose': '2020-06-21T23:59:59.999Z',\n",
       "  'timeHigh': '2020-06-21T05:51:02.000Z',\n",
       "  'timeLow': '2020-06-21T22:49:14.000Z',\n",
       "  'quote': {'open': 0.0225740847,\n",
       "   'high': 0.0229930854,\n",
       "   'low': 0.0212764199,\n",
       "   'close': 0.0214060304,\n",
       "   'volume': 36652110.9157337,\n",
       "   'marketCap': 74613125.2756439,\n",
       "   'timestamp': '2020-06-21T23:59:59.999Z'}},\n",
       " {'timeOpen': '2020-06-25T00:00:00.000Z',\n",
       "  'timeClose': '2020-06-25T23:59:59.999Z',\n",
       "  'timeHigh': '2020-06-25T00:00:24.000Z',\n",
       "  'timeLow': '2020-06-25T03:35:21.000Z',\n",
       "  'quote': {'open': 0.0223922688,\n",
       "   'high': 0.0223922688,\n",
       "   'low': 0.0214102662,\n",
       "   'close': 0.0215911858,\n",
       "   'volume': 17709010.22099,\n",
       "   'marketCap': 75309056.7433271,\n",
       "   'timestamp': '2020-06-25T23:59:59.999Z'}},\n",
       " {'timeOpen': '2020-06-29T00:00:00.000Z',\n",
       "  'timeClose': '2020-06-29T23:59:59.999Z',\n",
       "  'timeHigh': '2020-06-29T09:29:09.000Z',\n",
       "  'timeLow': '2020-06-29T15:02:05.000Z',\n",
       "  'quote': {'open': 0.0201026107,\n",
       "   'high': 0.0204109444,\n",
       "   'low': 0.0190200466,\n",
       "   'close': 0.0196873814,\n",
       "   'volume': 22979684.3948886,\n",
       "   'marketCap': 68668675.113176,\n",
       "   'timestamp': '2020-06-29T23:59:59.999Z'}},\n",
       " {'timeOpen': '2020-07-02T00:00:00.000Z',\n",
       "  'timeClose': '2020-07-02T23:59:59.999Z',\n",
       "  'timeHigh': '2020-07-02T14:48:08.000Z',\n",
       "  'timeLow': '2020-07-02T16:44:27.000Z',\n",
       "  'quote': {'open': 0.0187171434,\n",
       "   'high': 0.0194037053,\n",
       "   'low': 0.0183397694,\n",
       "   'close': 0.0191052059,\n",
       "   'volume': 17654038.4443679,\n",
       "   'marketCap': 66767667.7483066,\n",
       "   'timestamp': '2020-07-02T23:59:59.999Z'}},\n",
       " {'timeOpen': '2020-07-06T00:00:00.000Z',\n",
       "  'timeClose': '2020-07-06T23:59:59.999Z',\n",
       "  'timeHigh': '2020-07-06T23:38:25.000Z',\n",
       "  'timeLow': '2020-07-06T00:25:31.000Z',\n",
       "  'quote': {'open': 0.0190665279,\n",
       "   'high': 0.0200431324,\n",
       "   'low': 0.0188960986,\n",
       "   'close': 0.019929733,\n",
       "   'volume': 16348985.9561188,\n",
       "   'marketCap': 69784359.6167646,\n",
       "   'timestamp': '2020-07-06T23:59:59.999Z'}},\n",
       " {'timeOpen': '2020-07-10T00:00:00.000Z',\n",
       "  'timeClose': '2020-07-10T23:59:59.999Z',\n",
       "  'timeHigh': '2020-07-10T16:20:13.000Z',\n",
       "  'timeLow': '2020-07-10T07:09:12.000Z',\n",
       "  'quote': {'open': 0.0206981775,\n",
       "   'high': 0.0213165157,\n",
       "   'low': 0.0201304223,\n",
       "   'close': 0.0211310672,\n",
       "   'volume': 22356819.4797468,\n",
       "   'marketCap': 78745352.0881963,\n",
       "   'timestamp': '2020-07-10T23:59:59.999Z'}},\n",
       " {'timeOpen': '2020-07-13T00:00:00.000Z',\n",
       "  'timeClose': '2020-07-13T23:59:59.999Z',\n",
       "  'timeHigh': '2020-07-13T15:28:20.000Z',\n",
       "  'timeLow': '2020-07-13T01:32:20.000Z',\n",
       "  'quote': {'open': 0.0211591363,\n",
       "   'high': 0.0237085616,\n",
       "   'low': 0.0210882661,\n",
       "   'close': 0.0224241019,\n",
       "   'volume': 37147531.5425609,\n",
       "   'marketCap': 83715978.658726,\n",
       "   'timestamp': '2020-07-13T23:59:59.999Z'}},\n",
       " {'timeOpen': '2020-07-17T00:00:00.000Z',\n",
       "  'timeClose': '2020-07-17T23:59:59.999Z',\n",
       "  'timeHigh': '2020-07-17T13:12:16.000Z',\n",
       "  'timeLow': '2020-07-17T00:28:14.000Z',\n",
       "  'quote': {'open': 0.0208958652,\n",
       "   'high': 0.0217750104,\n",
       "   'low': 0.0207389466,\n",
       "   'close': 0.0211545167,\n",
       "   'volume': 11652834.7386498,\n",
       "   'marketCap': 78976231.7950317,\n",
       "   'timestamp': '2020-07-17T23:59:59.999Z'}},\n",
       " {'timeOpen': '2020-07-21T00:00:00.000Z',\n",
       "  'timeClose': '2020-07-21T23:59:59.999Z',\n",
       "  'timeHigh': '2020-07-21T10:18:15.000Z',\n",
       "  'timeLow': '2020-07-21T21:10:14.000Z',\n",
       "  'quote': {'open': 0.0216052135,\n",
       "   'high': 0.0219627848,\n",
       "   'low': 0.0209506524,\n",
       "   'close': 0.0212638983,\n",
       "   'volume': 18033494.5270401,\n",
       "   'marketCap': 79528823.0293845,\n",
       "   'timestamp': '2020-07-21T23:59:59.999Z'}},\n",
       " {'timeOpen': '2020-07-24T00:00:00.000Z',\n",
       "  'timeClose': '2020-07-24T23:59:59.999Z',\n",
       "  'timeHigh': '2020-07-24T10:44:15.000Z',\n",
       "  'timeLow': '2020-07-24T17:41:17.000Z',\n",
       "  'quote': {'open': 0.0210520212,\n",
       "   'high': 0.0213512969,\n",
       "   'low': 0.020332781,\n",
       "   'close': 0.0206329337,\n",
       "   'volume': 12009307.360871,\n",
       "   'marketCap': 77168960.7348233,\n",
       "   'timestamp': '2020-07-24T23:59:59.999Z'}},\n",
       " {'timeOpen': '2020-07-28T00:00:00.000Z',\n",
       "  'timeClose': '2020-07-28T23:59:59.999Z',\n",
       "  'timeHigh': '2020-07-28T13:32:22.000Z',\n",
       "  'timeLow': '2020-07-28T04:11:23.000Z',\n",
       "  'quote': {'open': 0.0199127957,\n",
       "   'high': 0.0210026335,\n",
       "   'low': 0.0192445648,\n",
       "   'close': 0.0204814044,\n",
       "   'volume': 25539919.0717529,\n",
       "   'marketCap': 76741156.6652336,\n",
       "   'timestamp': '2020-07-28T23:59:59.999Z'}},\n",
       " {'timeOpen': '2020-08-01T00:00:00.000Z',\n",
       "  'timeClose': '2020-08-01T23:59:59.999Z',\n",
       "  'timeHigh': '2020-08-01T21:42:20.000Z',\n",
       "  'timeLow': '2020-08-01T05:45:15.000Z',\n",
       "  'quote': {'open': 0.0202578047,\n",
       "   'high': 0.0213242811,\n",
       "   'low': 0.0201449807,\n",
       "   'close': 0.0209902049,\n",
       "   'volume': 16202701.7543277,\n",
       "   'marketCap': 78647565.8593098,\n",
       "   'timestamp': '2020-08-01T23:59:59.999Z'}},\n",
       " {'timeOpen': '2020-08-04T00:00:00.000Z',\n",
       "  'timeClose': '2020-08-04T23:59:59.999Z',\n",
       "  'timeHigh': '2020-08-04T08:26:06.000Z',\n",
       "  'timeLow': '2020-08-04T02:51:27.000Z',\n",
       "  'quote': {'open': 0.0204584232,\n",
       "   'high': 0.0208925935,\n",
       "   'low': 0.0203976933,\n",
       "   'close': 0.0206458935,\n",
       "   'volume': 10284066.9930629,\n",
       "   'marketCap': 77497520.6272616,\n",
       "   'timestamp': '2020-08-04T23:59:59.999Z'}},\n",
       " {'timeOpen': '2020-08-08T00:00:00.000Z',\n",
       "  'timeClose': '2020-08-08T23:59:59.999Z',\n",
       "  'timeHigh': '2020-08-08T22:53:04.000Z',\n",
       "  'timeLow': '2020-08-08T00:32:17.000Z',\n",
       "  'quote': {'open': 0.0213764602,\n",
       "   'high': 0.0229571186,\n",
       "   'low': 0.0213102679,\n",
       "   'close': 0.0228474177,\n",
       "   'volume': 19222402.2000331,\n",
       "   'marketCap': 85761278.3571176,\n",
       "   'timestamp': '2020-08-08T23:59:59.999Z'}},\n",
       " {'timeOpen': '2020-08-12T00:00:00.000Z',\n",
       "  'timeClose': '2020-08-12T23:59:59.999Z',\n",
       "  'timeHigh': '2020-08-12T20:35:14.000Z',\n",
       "  'timeLow': '2020-08-12T01:23:09.000Z',\n",
       "  'quote': {'open': 0.0231159053,\n",
       "   'high': 0.0259998538,\n",
       "   'low': 0.0226711117,\n",
       "   'close': 0.0255443525,\n",
       "   'volume': 30117664.1735988,\n",
       "   'marketCap': 96118155.6743531,\n",
       "   'timestamp': '2020-08-12T23:59:59.999Z'}},\n",
       " {'timeOpen': '2020-08-15T00:00:00.000Z',\n",
       "  'timeClose': '2020-08-15T23:59:59.999Z',\n",
       "  'timeHigh': '2020-08-15T09:33:10.000Z',\n",
       "  'timeLow': '2020-08-15T01:58:10.000Z',\n",
       "  'quote': {'open': 0.0282226519,\n",
       "   'high': 0.0323908718,\n",
       "   'low': 0.0270300771,\n",
       "   'close': 0.0301192736,\n",
       "   'volume': 64600573.7022512,\n",
       "   'marketCap': 113332644.76783,\n",
       "   'timestamp': '2020-08-15T23:59:59.999Z'}},\n",
       " {'timeOpen': '2020-08-19T00:00:00.000Z',\n",
       "  'timeClose': '2020-08-19T23:59:59.999Z',\n",
       "  'timeHigh': '2020-08-19T00:45:10.000Z',\n",
       "  'timeLow': '2020-08-19T20:22:18.000Z',\n",
       "  'quote': {'open': 0.0269329597,\n",
       "   'high': 0.02742065,\n",
       "   'low': 0.0240232898,\n",
       "   'close': 0.0248964534,\n",
       "   'volume': 32078356.1986801,\n",
       "   'marketCap': 93849121.0248337,\n",
       "   'timestamp': '2020-08-19T23:59:59.999Z'}},\n",
       " {'timeOpen': '2020-08-23T00:00:00.000Z',\n",
       "  'timeClose': '2020-08-23T23:59:59.999Z',\n",
       "  'timeHigh': '2020-08-23T00:01:22.000Z',\n",
       "  'timeLow': '2020-08-23T12:43:20.000Z',\n",
       "  'quote': {'open': 0.0261551403,\n",
       "   'high': 0.0261578944,\n",
       "   'low': 0.024883294,\n",
       "   'close': 0.0253080845,\n",
       "   'volume': 10582360.425014,\n",
       "   'marketCap': 95400796.5143698,\n",
       "   'timestamp': '2020-08-23T23:59:59.999Z'}},\n",
       " {'timeOpen': '2020-08-26T00:00:00.000Z',\n",
       "  'timeClose': '2020-08-26T23:59:59.999Z',\n",
       "  'timeHigh': '2020-08-26T10:17:12.000Z',\n",
       "  'timeLow': '2020-08-26T00:43:13.000Z',\n",
       "  'quote': {'open': 0.0257980571,\n",
       "   'high': 0.0274154343,\n",
       "   'low': 0.0255932447,\n",
       "   'close': 0.0269047082,\n",
       "   'volume': 21312800.9205604,\n",
       "   'marketCap': 101601892.978665,\n",
       "   'timestamp': '2020-08-26T23:59:59.999Z'}},\n",
       " {'timeOpen': '2020-08-30T00:00:00.000Z',\n",
       "  'timeClose': '2020-08-30T23:59:59.999Z',\n",
       "  'timeHigh': '2020-08-30T02:27:14.000Z',\n",
       "  'timeLow': '2020-08-30T23:56:28.000Z',\n",
       "  'quote': {'open': 0.027641829,\n",
       "   'high': 0.0286638213,\n",
       "   'low': 0.0271253942,\n",
       "   'close': 0.0271776006,\n",
       "   'volume': 16727279.8654935,\n",
       "   'marketCap': 102632433.339702,\n",
       "   'timestamp': '2020-08-30T23:59:59.999Z'}},\n",
       " {'timeOpen': '2020-09-03T00:00:00.000Z',\n",
       "  'timeClose': '2020-09-03T23:59:59.999Z',\n",
       "  'timeHigh': '2020-09-03T00:52:12.000Z',\n",
       "  'timeLow': '2020-09-03T23:40:26.000Z',\n",
       "  'quote': {'open': 0.0235069501,\n",
       "   'high': 0.0237141079,\n",
       "   'low': 0.0188601378,\n",
       "   'close': 0.019392567,\n",
       "   'volume': 19269777.7555093,\n",
       "   'marketCap': 73364878.2765807,\n",
       "   'timestamp': '2020-09-03T23:59:59.999Z'}},\n",
       " {'timeOpen': '2020-09-06T00:00:00.000Z',\n",
       "  'timeClose': '2020-09-06T23:59:59.999Z',\n",
       "  'timeHigh': '2020-09-06T21:55:25.000Z',\n",
       "  'timeLow': '2020-09-06T05:20:26.000Z',\n",
       "  'quote': {'open': 0.0180386024,\n",
       "   'high': 0.0191113085,\n",
       "   'low': 0.0172960511,\n",
       "   'close': 0.0187874226,\n",
       "   'volume': 11566935.4608581,\n",
       "   'marketCap': 71075529.7716607,\n",
       "   'timestamp': '2020-09-06T23:59:59.999Z'}},\n",
       " {'timeOpen': '2020-09-10T00:00:00.000Z',\n",
       "  'timeClose': '2020-09-10T23:59:59.999Z',\n",
       "  'timeHigh': '2020-09-10T13:56:07.000Z',\n",
       "  'timeLow': '2020-09-10T08:05:06.000Z',\n",
       "  'quote': {'open': 0.0201609476,\n",
       "   'high': 0.0214631776,\n",
       "   'low': 0.0200349425,\n",
       "   'close': 0.0204751255,\n",
       "   'volume': 13563418.3518248,\n",
       "   'marketCap': 77877012.0934844,\n",
       "   'timestamp': '2020-09-10T23:59:59.999Z'}},\n",
       " {'timeOpen': '2020-09-14T00:00:00.000Z',\n",
       "  'timeClose': '2020-09-14T23:59:59.999Z',\n",
       "  'timeHigh': '2020-09-14T17:48:10.000Z',\n",
       "  'timeLow': '2020-09-14T01:01:22.000Z',\n",
       "  'quote': {'open': 0.0198018981,\n",
       "   'high': 0.0203917826,\n",
       "   'low': 0.0195929976,\n",
       "   'close': 0.0201394282,\n",
       "   'volume': 10363433.8723258,\n",
       "   'marketCap': 76600189.6757999,\n",
       "   'timestamp': '2020-09-14T23:59:59.999Z'}},\n",
       " {'timeOpen': '2020-09-17T00:00:00.000Z',\n",
       "  'timeClose': '2020-09-17T23:59:59.999Z',\n",
       "  'timeHigh': '2020-09-17T23:49:09.000Z',\n",
       "  'timeLow': '2020-09-17T13:48:12.000Z',\n",
       "  'quote': {'open': 0.0198572165,\n",
       "   'high': 0.0205256344,\n",
       "   'low': 0.0194354677,\n",
       "   'close': 0.0204313563,\n",
       "   'volume': 14224676.7295159,\n",
       "   'marketCap': 77710536.2919954,\n",
       "   'timestamp': '2020-09-17T23:59:59.999Z'}},\n",
       " {'timeOpen': '2020-09-21T00:00:00.000Z',\n",
       "  'timeClose': '2020-09-21T23:59:59.999Z',\n",
       "  'timeHigh': '2020-09-21T03:11:25.000Z',\n",
       "  'timeLow': '2020-09-21T14:43:24.000Z',\n",
       "  'quote': {'open': 0.0219554882,\n",
       "   'high': 0.0235169141,\n",
       "   'low': 0.0185609033,\n",
       "   'close': 0.0189466465,\n",
       "   'volume': 28648318.5986346,\n",
       "   'marketCap': 72063451.6147247,\n",
       "   'timestamp': '2020-09-21T23:59:59.999Z'}},\n",
       " {'timeOpen': '2020-09-25T00:00:00.000Z',\n",
       "  'timeClose': '2020-09-25T23:59:59.999Z',\n",
       "  'timeHigh': '2020-09-25T20:18:38.000Z',\n",
       "  'timeLow': '2020-09-25T09:46:46.000Z',\n",
       "  'quote': {'open': 0.01899296,\n",
       "   'high': 0.01938032,\n",
       "   'low': 0.01838089,\n",
       "   'close': 0.0191456,\n",
       "   'volume': 8791831.31807349,\n",
       "   'marketCap': 72820162.5431056,\n",
       "   'timestamp': '2020-09-25T23:59:59.999Z'}},\n",
       " {'timeOpen': '2020-09-28T00:00:00.000Z',\n",
       "  'timeClose': '2020-09-28T23:59:59.999Z',\n",
       "  'timeHigh': '2020-09-28T14:21:42.000Z',\n",
       "  'timeLow': '2020-09-28T07:20:52.000Z',\n",
       "  'quote': {'open': 0.01873418,\n",
       "   'high': 0.02028677,\n",
       "   'low': 0.01870372,\n",
       "   'close': 0.01888643,\n",
       "   'volume': 16761055.42962072,\n",
       "   'marketCap': 72090627.08078597,\n",
       "   'timestamp': '2020-09-28T23:59:59.999Z'}},\n",
       " {'timeOpen': '2020-10-02T00:00:00.000Z',\n",
       "  'timeClose': '2020-10-02T23:59:59.999Z',\n",
       "  'timeHigh': '2020-10-02T04:01:53.000Z',\n",
       "  'timeLow': '2020-10-02T10:32:40.000Z',\n",
       "  'quote': {'open': 0.01898821,\n",
       "   'high': 0.01912028,\n",
       "   'low': 0.01756338,\n",
       "   'close': 0.01827247,\n",
       "   'volume': 9923295.24413839,\n",
       "   'marketCap': 69747100.60684969,\n",
       "   'timestamp': '2020-10-02T23:59:59.999Z'}},\n",
       " {'timeOpen': '2020-10-06T00:00:00.000Z',\n",
       "  'timeClose': '2020-10-06T23:59:59.999Z',\n",
       "  'timeHigh': '2020-10-06T00:10:53.000Z',\n",
       "  'timeLow': '2020-10-06T21:02:38.000Z',\n",
       "  'quote': {'open': 0.01883046,\n",
       "   'high': 0.01888594,\n",
       "   'low': 0.01703727,\n",
       "   'close': 0.01716478,\n",
       "   'volume': 9375522.24713692,\n",
       "   'marketCap': 65519001.08377297,\n",
       "   'timestamp': '2020-10-06T23:59:59.999Z'}},\n",
       " {'timeOpen': '2020-10-09T00:00:00.000Z',\n",
       "  'timeClose': '2020-10-09T23:59:59.999Z',\n",
       "  'timeHigh': '2020-10-09T17:46:40.000Z',\n",
       "  'timeLow': '2020-10-09T06:20:44.000Z',\n",
       "  'quote': {'open': 0.01665708,\n",
       "   'high': 0.01755432,\n",
       "   'low': 0.01625249,\n",
       "   'close': 0.01709394,\n",
       "   'volume': 10117798.5893766,\n",
       "   'marketCap': 65248597.146068,\n",
       "   'timestamp': '2020-10-09T23:59:59.999Z'}},\n",
       " {'timeOpen': '2020-10-13T00:00:00.000Z',\n",
       "  'timeClose': '2020-10-13T23:59:59.999Z',\n",
       "  'timeHigh': '2020-10-13T13:01:40.000Z',\n",
       "  'timeLow': '2020-10-13T18:46:39.000Z',\n",
       "  'quote': {'open': 0.01788533,\n",
       "   'high': 0.01797156,\n",
       "   'low': 0.01741413,\n",
       "   'close': 0.01769808,\n",
       "   'volume': 6904063.91988658,\n",
       "   'marketCap': 67794746.41655897,\n",
       "   'timestamp': '2020-10-13T23:59:59.999Z'}},\n",
       " {'timeOpen': '2020-10-17T00:00:00.000Z',\n",
       "  'timeClose': '2020-10-17T23:59:59.999Z',\n",
       "  'timeHigh': '2020-10-17T15:11:45.000Z',\n",
       "  'timeLow': '2020-10-17T00:42:03.000Z',\n",
       "  'quote': {'open': 0.01627792,\n",
       "   'high': 0.01679586,\n",
       "   'low': 0.01614107,\n",
       "   'close': 0.01674202,\n",
       "   'volume': 4856798.42704107,\n",
       "   'marketCap': 64132413.06032132,\n",
       "   'timestamp': '2020-10-17T23:59:59.999Z'}},\n",
       " {'timeOpen': '2020-10-21T00:00:00.000Z',\n",
       "  'timeClose': '2020-10-21T23:59:59.999Z',\n",
       "  'timeHigh': '2020-10-21T20:56:39.000Z',\n",
       "  'timeLow': '2020-10-21T00:10:39.000Z',\n",
       "  'quote': {'open': 0.0156493,\n",
       "   'high': 0.01679458,\n",
       "   'low': 0.01564439,\n",
       "   'close': 0.01638341,\n",
       "   'volume': 14525759.80567161,\n",
       "   'marketCap': 62758735.47244172,\n",
       "   'timestamp': '2020-10-21T23:59:59.999Z'}},\n",
       " {'timeOpen': '2020-10-24T00:00:00.000Z',\n",
       "  'timeClose': '2020-10-24T23:59:59.999Z',\n",
       "  'timeHigh': '2020-10-24T20:34:06.000Z',\n",
       "  'timeLow': '2020-10-24T00:31:07.000Z',\n",
       "  'quote': {'open': 0.01704039,\n",
       "   'high': 0.01772433,\n",
       "   'low': 0.01685844,\n",
       "   'close': 0.01768265,\n",
       "   'volume': 8231995.65329695,\n",
       "   'marketCap': 67735612.4812321,\n",
       "   'timestamp': '2020-10-24T23:59:59.999Z'}},\n",
       " {'timeOpen': '2020-10-28T00:00:00.000Z',\n",
       "  'timeClose': '2020-10-28T23:59:59.999Z',\n",
       "  'timeHigh': '2020-10-28T04:43:07.000Z',\n",
       "  'timeLow': '2020-10-28T21:36:07.000Z',\n",
       "  'quote': {'open': 0.01579977,\n",
       "   'high': 0.01613453,\n",
       "   'low': 0.01489979,\n",
       "   'close': 0.01508613,\n",
       "   'volume': 8835883.71339023,\n",
       "   'marketCap': 64531336.05101547,\n",
       "   'timestamp': '2020-10-28T23:59:59.999Z'}},\n",
       " {'timeOpen': '2020-11-01T00:00:00.000Z',\n",
       "  'timeClose': '2020-11-01T23:59:59.999Z',\n",
       "  'timeHigh': '2020-11-01T21:03:07.000Z',\n",
       "  'timeLow': '2020-11-01T00:44:07.000Z',\n",
       "  'quote': {'open': 0.01372149,\n",
       "   'high': 0.01431871,\n",
       "   'low': 0.01365519,\n",
       "   'close': 0.01410738,\n",
       "   'volume': 5702031.57264739,\n",
       "   'marketCap': 60344683.14230055,\n",
       "   'timestamp': '2020-11-01T23:59:59.999Z'}},\n",
       " {'timeOpen': '2020-11-04T00:00:00.000Z',\n",
       "  'timeClose': '2020-11-04T23:59:59.999Z',\n",
       "  'timeHigh': '2020-11-04T00:06:09.000Z',\n",
       "  'timeLow': '2020-11-04T16:04:07.000Z',\n",
       "  'quote': {'open': 0.01271735,\n",
       "   'high': 0.0127682,\n",
       "   'low': 0.01175914,\n",
       "   'close': 0.01225149,\n",
       "   'volume': 9060246.20646675,\n",
       "   'marketCap': 58123448.34222203,\n",
       "   'timestamp': '2020-11-04T23:59:59.999Z'}},\n",
       " {'timeOpen': '2020-11-08T00:00:00.000Z',\n",
       "  'timeClose': '2020-11-08T23:59:59.999Z',\n",
       "  'timeHigh': '2020-11-08T15:16:06.000Z',\n",
       "  'timeLow': '2020-11-08T00:13:06.000Z',\n",
       "  'quote': {'open': 0.01439344,\n",
       "   'high': 0.01622473,\n",
       "   'low': 0.01420321,\n",
       "   'close': 0.01573523,\n",
       "   'volume': 11777719.14150026,\n",
       "   'marketCap': 74650985.08129805,\n",
       "   'timestamp': '2020-11-08T23:59:59.999Z'}},\n",
       " {'timeOpen': '2020-11-12T00:00:00.000Z',\n",
       "  'timeClose': '2020-11-12T23:59:59.999Z',\n",
       "  'timeHigh': '2020-11-12T07:41:07.000Z',\n",
       "  'timeLow': '2020-11-12T22:41:07.000Z',\n",
       "  'quote': {'open': 0.01660271,\n",
       "   'high': 0.01734571,\n",
       "   'low': 0.01574452,\n",
       "   'close': 0.01586022,\n",
       "   'volume': 10853928.73984272,\n",
       "   'marketCap': 75459096.83560751,\n",
       "   'timestamp': '2020-11-12T23:59:59.999Z'}},\n",
       " {'timeOpen': '2020-11-15T00:00:00.000Z',\n",
       "  'timeClose': '2020-11-15T23:59:59.999Z',\n",
       "  'timeHigh': '2020-11-15T07:14:07.000Z',\n",
       "  'timeLow': '2020-11-15T22:16:07.000Z',\n",
       "  'quote': {'open': 0.01675115,\n",
       "   'high': 0.01706956,\n",
       "   'low': 0.0159842,\n",
       "   'close': 0.01646086,\n",
       "   'volume': 7699717.57381216,\n",
       "   'marketCap': 78316794.71129632,\n",
       "   'timestamp': '2020-11-15T23:59:59.999Z'}},\n",
       " {'timeOpen': '2020-11-19T00:00:00.000Z',\n",
       "  'timeClose': '2020-11-19T23:59:59.999Z',\n",
       "  'timeHigh': '2020-11-19T14:01:08.000Z',\n",
       "  'timeLow': '2020-11-19T09:57:06.000Z',\n",
       "  'quote': {'open': 0.01709364,\n",
       "   'high': 0.01794186,\n",
       "   'low': 0.01683194,\n",
       "   'close': 0.01727233,\n",
       "   'volume': 11780230.82010427,\n",
       "   'marketCap': 82177603.47576863,\n",
       "   'timestamp': '2020-11-19T23:59:59.999Z'}},\n",
       " {'timeOpen': '2020-11-23T00:00:00.000Z',\n",
       "  'timeClose': '2020-11-23T23:59:59.999Z',\n",
       "  'timeHigh': '2020-11-23T11:07:06.000Z',\n",
       "  'timeLow': '2020-11-23T01:07:06.000Z',\n",
       "  'quote': {'open': 0.01903588,\n",
       "   'high': 0.02176365,\n",
       "   'low': 0.01885715,\n",
       "   'close': 0.02116329,\n",
       "   'volume': 25040100.28334779,\n",
       "   'marketCap': 100689833.52586354,\n",
       "   'timestamp': '2020-11-23T23:59:59.999Z'}},\n",
       " {'timeOpen': '2020-11-26T00:00:00.000Z',\n",
       "  'timeClose': '2020-11-26T23:59:59.999Z',\n",
       "  'timeHigh': '2020-11-26T01:11:06.000Z',\n",
       "  'timeLow': '2020-11-26T17:28:06.000Z',\n",
       "  'quote': {'open': 0.02112365,\n",
       "   'high': 0.02153157,\n",
       "   'low': 0.01584726,\n",
       "   'close': 0.0177797,\n",
       "   'volume': 29547199.33220493,\n",
       "   'marketCap': 84591548.77624762,\n",
       "   'timestamp': '2020-11-26T23:59:59.999Z'}},\n",
       " {'timeOpen': '2020-11-30T00:00:00.000Z',\n",
       "  'timeClose': '2020-11-30T23:59:59.999Z',\n",
       "  'timeHigh': '2020-11-30T22:46:08.000Z',\n",
       "  'timeLow': '2020-11-30T09:37:07.000Z',\n",
       "  'quote': {'open': 0.01885552,\n",
       "   'high': 0.01972281,\n",
       "   'low': 0.01856958,\n",
       "   'close': 0.01956298,\n",
       "   'volume': 12682600.98738823,\n",
       "   'marketCap': 93075968.58253048,\n",
       "   'timestamp': '2020-11-30T23:59:59.999Z'}},\n",
       " {'timeOpen': '2020-12-04T00:00:00.000Z',\n",
       "  'timeClose': '2020-12-04T23:59:59.999Z',\n",
       "  'timeHigh': '2020-12-04T01:34:07.000Z',\n",
       "  'timeLow': '2020-12-04T22:58:07.000Z',\n",
       "  'quote': {'open': 0.02080795,\n",
       "   'high': 0.02109171,\n",
       "   'low': 0.0187112,\n",
       "   'close': 0.01887123,\n",
       "   'volume': 14569072.35484419,\n",
       "   'marketCap': 89784765.01980112,\n",
       "   'timestamp': '2020-12-04T23:59:59.999Z'}},\n",
       " {'timeOpen': '2020-12-07T00:00:00.000Z',\n",
       "  'timeClose': '2020-12-07T23:59:59.999Z',\n",
       "  'timeHigh': '2020-12-07T00:02:07.000Z',\n",
       "  'timeLow': '2020-12-07T18:49:07.000Z',\n",
       "  'quote': {'open': 0.01957167,\n",
       "   'high': 0.01961119,\n",
       "   'low': 0.01900756,\n",
       "   'close': 0.0191994,\n",
       "   'volume': 5737007.36426543,\n",
       "   'marketCap': 91867064.96826006,\n",
       "   'timestamp': '2020-12-07T23:59:59.999Z'}},\n",
       " {'timeOpen': '2020-12-11T00:00:00.000Z',\n",
       "  'timeClose': '2020-12-11T23:59:59.999Z',\n",
       "  'timeHigh': '2020-12-11T19:31:06.000Z',\n",
       "  'timeLow': '2020-12-11T11:50:08.000Z',\n",
       "  'quote': {'open': 0.01777176,\n",
       "   'high': 0.01792915,\n",
       "   'low': 0.01705441,\n",
       "   'close': 0.01749841,\n",
       "   'volume': 7664230.98072923,\n",
       "   'marketCap': 83728003.18367906,\n",
       "   'timestamp': '2020-12-11T23:59:59.999Z'}},\n",
       " {'timeOpen': '2020-12-15T00:00:00.000Z',\n",
       "  'timeClose': '2020-12-15T23:59:59.999Z',\n",
       "  'timeHigh': '2020-12-15T19:59:06.000Z',\n",
       "  'timeLow': '2020-12-15T00:00:08.000Z',\n",
       "  'quote': {'open': 0.0183874,\n",
       "   'high': 0.01988168,\n",
       "   'low': 0.0183874,\n",
       "   'close': 0.01948868,\n",
       "   'volume': 14597987.6908107,\n",
       "   'marketCap': 93515611.72747545,\n",
       "   'timestamp': '2020-12-15T23:59:59.999Z'}},\n",
       " {'timeOpen': '2020-12-18T00:00:00.000Z',\n",
       "  'timeClose': '2020-12-18T23:59:59.999Z',\n",
       "  'timeHigh': '2020-12-18T18:32:07.000Z',\n",
       "  'timeLow': '2020-12-18T00:27:06.000Z',\n",
       "  'quote': {'open': 0.01895847,\n",
       "   'high': 0.02076503,\n",
       "   'low': 0.01868158,\n",
       "   'close': 0.02059935,\n",
       "   'volume': 13821146.47361819,\n",
       "   'marketCap': 98845097.90148862,\n",
       "   'timestamp': '2020-12-18T23:59:59.999Z'}},\n",
       " {'timeOpen': '2020-12-23T00:00:00.000Z',\n",
       "  'timeClose': '2020-12-23T23:59:59.999Z',\n",
       "  'timeHigh': '2020-12-23T00:29:07.000Z',\n",
       "  'timeLow': '2020-12-23T22:29:08.000Z',\n",
       "  'quote': {'open': 0.01863582,\n",
       "   'high': 0.01873316,\n",
       "   'low': 0.01477529,\n",
       "   'close': 0.0152044,\n",
       "   'volume': 13949596.25839853,\n",
       "   'marketCap': 72957658.40448923,\n",
       "   'timestamp': '2020-12-23T23:59:59.999Z'}},\n",
       " {'timeOpen': '2020-12-27T00:00:00.000Z',\n",
       "  'timeClose': '2020-12-27T23:59:59.999Z',\n",
       "  'timeHigh': '2020-12-27T01:40:07.000Z',\n",
       "  'timeLow': '2020-12-27T12:11:06.000Z',\n",
       "  'quote': {'open': 0.01928045,\n",
       "   'high': 0.01995795,\n",
       "   'low': 0.01784141,\n",
       "   'close': 0.01830067,\n",
       "   'volume': 23010603.4377954,\n",
       "   'marketCap': 87815011.17189236,\n",
       "   'timestamp': '2020-12-27T23:59:59.999Z'}},\n",
       " {'timeOpen': '2020-12-30T00:00:00.000Z',\n",
       "  'timeClose': '2020-12-30T23:59:59.999Z',\n",
       "  'timeHigh': '2020-12-30T03:30:08.000Z',\n",
       "  'timeLow': '2020-12-30T20:08:07.000Z',\n",
       "  'quote': {'open': 0.01844155,\n",
       "   'high': 0.01904187,\n",
       "   'low': 0.01795645,\n",
       "   'close': 0.01813547,\n",
       "   'volume': 9394170.81342353,\n",
       "   'marketCap': 87268310.92395696,\n",
       "   'timestamp': '2020-12-30T23:59:59.999Z'}},\n",
       " {'timeOpen': '2021-01-03T00:00:00.000Z',\n",
       "  'timeClose': '2021-01-03T23:59:59.999Z',\n",
       "  'timeHigh': '2021-01-03T14:40:09.000Z',\n",
       "  'timeLow': '2021-01-03T10:02:07.000Z',\n",
       "  'quote': {'open': 0.01905264,\n",
       "   'high': 0.02056994,\n",
       "   'low': 0.01891,\n",
       "   'close': 0.01997515,\n",
       "   'volume': 17908525.55534216,\n",
       "   'marketCap': 96120900.28940505,\n",
       "   'timestamp': '2021-01-03T23:59:59.999Z'}},\n",
       " {'timeOpen': '2021-01-07T00:00:00.000Z',\n",
       "  'timeClose': '2021-01-07T23:59:59.999Z',\n",
       "  'timeHigh': '2021-01-07T05:28:07.000Z',\n",
       "  'timeLow': '2021-01-07T19:07:08.000Z',\n",
       "  'quote': {'open': 0.03531164,\n",
       "   'high': 0.03939897,\n",
       "   'low': 0.03215517,\n",
       "   'close': 0.03299935,\n",
       "   'volume': 105163770.60432005,\n",
       "   'marketCap': 160393811.03839678,\n",
       "   'timestamp': '2021-01-07T23:59:59.999Z'}},\n",
       " {'timeOpen': '2021-01-10T00:00:00.000Z',\n",
       "  'timeClose': '2021-01-10T23:59:59.999Z',\n",
       "  'timeHigh': '2021-01-10T06:04:08.000Z',\n",
       "  'timeLow': '2021-01-10T20:29:08.000Z',\n",
       "  'quote': {'open': 0.03358152,\n",
       "   'high': 0.03451445,\n",
       "   'low': 0.02791882,\n",
       "   'close': 0.03041079,\n",
       "   'volume': 52646300.1956875,\n",
       "   'marketCap': 147926102.2112702,\n",
       "   'timestamp': '2021-01-10T23:59:59.999Z'}},\n",
       " {'timeOpen': '2021-01-14T00:00:00.000Z',\n",
       "  'timeClose': '2021-01-14T23:59:59.999Z',\n",
       "  'timeHigh': '2021-01-14T23:54:07.000Z',\n",
       "  'timeLow': '2021-01-14T02:16:07.000Z',\n",
       "  'quote': {'open': 0.03006897,\n",
       "   'high': 0.03291029,\n",
       "   'low': 0.02919362,\n",
       "   'close': 0.03283134,\n",
       "   'volume': 34026775.97237302,\n",
       "   'marketCap': 159700310.7959011,\n",
       "   'timestamp': '2021-01-14T23:59:59.999Z'}},\n",
       " {'timeOpen': '2021-01-18T00:00:00.000Z',\n",
       "  'timeClose': '2021-01-18T23:59:59.999Z',\n",
       "  'timeHigh': '2021-01-18T13:19:07.000Z',\n",
       "  'timeLow': '2021-01-18T03:55:08.000Z',\n",
       "  'quote': {'open': 0.03403582,\n",
       "   'high': 0.03770368,\n",
       "   'low': 0.03360578,\n",
       "   'close': 0.03605333,\n",
       "   'volume': 38764373.39696625,\n",
       "   'marketCap': 175372934.1382037,\n",
       "   'timestamp': '2021-01-18T23:59:59.999Z'}},\n",
       " {'timeOpen': '2021-01-21T00:00:00.000Z',\n",
       "  'timeClose': '2021-01-21T23:59:59.999Z',\n",
       "  'timeHigh': '2021-01-21T01:03:08.000Z',\n",
       "  'timeLow': '2021-01-21T22:41:07.000Z',\n",
       "  'quote': {'open': 0.03454711,\n",
       "   'high': 0.03493541,\n",
       "   'low': 0.02835719,\n",
       "   'close': 0.02860443,\n",
       "   'volume': 33989576.16775928,\n",
       "   'marketCap': 139139498.50983387,\n",
       "   'timestamp': '2021-01-21T23:59:59.999Z'}},\n",
       " {'timeOpen': '2021-01-25T00:00:00.000Z',\n",
       "  'timeClose': '2021-01-25T23:59:59.999Z',\n",
       "  'timeHigh': '2021-01-25T15:25:09.000Z',\n",
       "  'timeLow': '2021-01-25T23:07:07.000Z',\n",
       "  'quote': {'open': 0.03317633,\n",
       "   'high': 0.03683748,\n",
       "   'low': 0.03295431,\n",
       "   'close': 0.03297828,\n",
       "   'volume': 35904208.49905811,\n",
       "   'marketCap': 160862488.2326583,\n",
       "   'timestamp': '2021-01-25T23:59:59.999Z'}},\n",
       " {'timeOpen': '2021-01-29T00:00:00.000Z',\n",
       "  'timeClose': '2021-01-29T23:59:59.999Z',\n",
       "  'timeHigh': '2021-01-29T16:28:07.000Z',\n",
       "  'timeLow': '2021-01-29T04:24:07.000Z',\n",
       "  'quote': {'open': 0.03849222,\n",
       "   'high': 0.04280576,\n",
       "   'low': 0.03752781,\n",
       "   'close': 0.0402772,\n",
       "   'volume': 93560701.32,\n",
       "   'marketCap': 196465386.67,\n",
       "   'timestamp': '2021-01-29T23:59:59.999Z'}},\n",
       " {'timeOpen': '2021-02-01T00:00:00.000Z',\n",
       "  'timeClose': '2021-02-01T23:59:59.999Z',\n",
       "  'timeHigh': '2021-02-01T23:19:07.000Z',\n",
       "  'timeLow': '2021-02-01T14:15:09.000Z',\n",
       "  'quote': {'open': 0.03827846,\n",
       "   'high': 0.04109041,\n",
       "   'low': 0.03638579,\n",
       "   'close': 0.04087726,\n",
       "   'volume': 47374906.81,\n",
       "   'marketCap': 199392348.58,\n",
       "   'timestamp': '2021-02-01T23:59:59.999Z'}},\n",
       " {'timeOpen': '2021-02-05T00:00:00.000Z',\n",
       "  'timeClose': '2021-02-05T23:59:59.999Z',\n",
       "  'timeHigh': '2021-02-05T23:49:07.000Z',\n",
       "  'timeLow': '2021-02-05T01:42:07.000Z',\n",
       "  'quote': {'open': 0.0473696,\n",
       "   'high': 0.05611129,\n",
       "   'low': 0.04614626,\n",
       "   'close': 0.05476713,\n",
       "   'volume': 109264089.66,\n",
       "   'marketCap': 271252337.48,\n",
       "   'timestamp': '2021-02-05T23:59:59.999Z'}},\n",
       " {'timeOpen': '2021-02-09T00:00:00.000Z',\n",
       "  'timeClose': '2021-02-09T23:59:59.999Z',\n",
       "  'timeHigh': '2021-02-09T22:17:07.000Z',\n",
       "  'timeLow': '2021-02-09T04:11:07.000Z',\n",
       "  'quote': {'open': 0.07131328,\n",
       "   'high': 0.10707096,\n",
       "   'low': 0.06958837,\n",
       "   'close': 0.09886833,\n",
       "   'volume': 333193199.14,\n",
       "   'marketCap': 489678094.69,\n",
       "   'timestamp': '2021-02-09T23:59:59.999Z'}},\n",
       " {'timeOpen': '2021-02-12T00:00:00.000Z',\n",
       "  'timeClose': '2021-02-12T23:59:59.999Z',\n",
       "  'timeHigh': '2021-02-12T18:41:07.000Z',\n",
       "  'timeLow': '2021-02-12T14:49:07.000Z',\n",
       "  'quote': {'open': 0.12338414,\n",
       "   'high': 0.12821005,\n",
       "   'low': 0.11483868,\n",
       "   'close': 0.12123293,\n",
       "   'volume': 210036619.79,\n",
       "   'marketCap': 602090894.56,\n",
       "   'timestamp': '2021-02-12T23:59:59.999Z'}},\n",
       " {'timeOpen': '2021-02-16T00:00:00.000Z',\n",
       "  'timeClose': '2021-02-16T23:59:59.999Z',\n",
       "  'timeHigh': '2021-02-16T02:28:08.000Z',\n",
       "  'timeLow': '2021-02-16T17:00:11.000Z',\n",
       "  'quote': {'open': 0.1073507,\n",
       "   'high': 0.114779,\n",
       "   'low': 0.10136676,\n",
       "   'close': 0.10890014,\n",
       "   'volume': 161640362.44,\n",
       "   'marketCap': 540841329.82,\n",
       "   'timestamp': '2021-02-16T23:59:59.999Z'}},\n",
       " {'timeOpen': '2021-02-20T00:00:00.000Z',\n",
       "  'timeClose': '2021-02-20T23:59:59.999Z',\n",
       "  'timeHigh': '2021-02-20T11:53:09.000Z',\n",
       "  'timeLow': '2021-02-20T22:43:09.000Z',\n",
       "  'quote': {'open': 0.15457587,\n",
       "   'high': 0.19842905,\n",
       "   'low': 0.13596487,\n",
       "   'close': 0.14608053,\n",
       "   'volume': 838406824.51,\n",
       "   'marketCap': 725493926.88,\n",
       "   'timestamp': '2021-02-20T23:59:59.999Z'}},\n",
       " {'timeOpen': '2021-02-24T00:00:00.000Z',\n",
       "  'timeClose': '2021-02-24T23:59:59.999Z',\n",
       "  'timeHigh': '2021-02-24T12:55:10.000Z',\n",
       "  'timeLow': '2021-02-24T00:25:08.000Z',\n",
       "  'quote': {'open': 0.13679799,\n",
       "   'high': 0.17086469,\n",
       "   'low': 0.12823165,\n",
       "   'close': 0.16024287,\n",
       "   'volume': 413053549.79,\n",
       "   'marketCap': 795829741.75,\n",
       "   'timestamp': '2021-02-24T23:59:59.999Z'}},\n",
       " {'timeOpen': '2021-02-27T00:00:00.000Z',\n",
       "  'timeClose': '2021-02-27T23:59:59.999Z',\n",
       "  'timeHigh': '2021-02-27T06:45:10.000Z',\n",
       "  'timeLow': '2021-02-27T00:02:08.000Z',\n",
       "  'quote': {'open': 0.1905321,\n",
       "   'high': 0.23055901,\n",
       "   'low': 0.18996445,\n",
       "   'close': 0.19753262,\n",
       "   'volume': 610004301.46,\n",
       "   'marketCap': 981025453.7,\n",
       "   'timestamp': '2021-02-27T23:59:59.999Z'}},\n",
       " {'timeOpen': '2021-03-03T00:00:00.000Z',\n",
       "  'timeClose': '2021-03-03T23:59:59.999Z',\n",
       "  'timeHigh': '2021-03-03T01:20:09.000Z',\n",
       "  'timeLow': '2021-03-03T14:16:08.000Z',\n",
       "  'quote': {'open': 0.23197079,\n",
       "   'high': 0.23764847,\n",
       "   'low': 0.21972207,\n",
       "   'close': 0.22393534,\n",
       "   'volume': 255744904.38,\n",
       "   'marketCap': 1112151841.75,\n",
       "   'timestamp': '2021-03-03T23:59:59.999Z'}},\n",
       " {'timeOpen': '2021-03-07T00:00:00.000Z',\n",
       "  'timeClose': '2021-03-07T23:59:59.999Z',\n",
       "  'timeHigh': '2021-03-07T13:10:10.000Z',\n",
       "  'timeLow': '2021-03-07T20:13:08.000Z',\n",
       "  'quote': {'open': 0.21292811,\n",
       "   'high': 0.2219914,\n",
       "   'low': 0.2079602,\n",
       "   'close': 0.21224267,\n",
       "   'volume': 127461429.77,\n",
       "   'marketCap': 1054081390.09,\n",
       "   'timestamp': '2021-03-07T23:59:59.999Z'}},\n",
       " {'timeOpen': '2021-03-10T00:00:00.000Z',\n",
       "  'timeClose': '2021-03-10T23:59:59.999Z',\n",
       "  'timeHigh': '2021-03-10T07:31:10.000Z',\n",
       "  'timeLow': '2021-03-10T02:11:08.000Z',\n",
       "  'quote': {'open': 0.29875896,\n",
       "   'high': 0.33835957,\n",
       "   'low': 0.28325982,\n",
       "   'close': 0.28752358,\n",
       "   'volume': 767394371.47,\n",
       "   'marketCap': 1431857181.3,\n",
       "   'timestamp': '2021-03-10T23:59:59.999Z'}},\n",
       " {'timeOpen': '2021-03-14T00:00:00.000Z',\n",
       "  'timeClose': '2021-03-14T23:59:59.999Z',\n",
       "  'timeHigh': '2021-03-14T00:23:08.000Z',\n",
       "  'timeLow': '2021-03-14T11:29:08.000Z',\n",
       "  'quote': {'open': 0.42534612,\n",
       "   'high': 0.4366667,\n",
       "   'low': 0.37735309,\n",
       "   'close': 0.38288084,\n",
       "   'volume': 538225586.44,\n",
       "   'marketCap': 1911327157.39,\n",
       "   'timestamp': '2021-03-14T23:59:59.999Z'}},\n",
       " {'timeOpen': '2021-03-18T00:00:00.000Z',\n",
       "  'timeClose': '2021-03-18T23:59:59.999Z',\n",
       "  'timeHigh': '2021-03-18T01:40:09.000Z',\n",
       "  'timeLow': '2021-03-18T20:01:08.000Z',\n",
       "  'quote': {'open': 0.40143819,\n",
       "   'high': 0.436361,\n",
       "   'low': 0.38741484,\n",
       "   'close': 0.39073417,\n",
       "   'volume': 345618831.45,\n",
       "   'marketCap': 1958068739.28,\n",
       "   'timestamp': '2021-03-18T23:59:59.999Z'}},\n",
       " {'timeOpen': '2021-03-21T00:00:00.000Z',\n",
       "  'timeClose': '2021-03-21T23:59:59.999Z',\n",
       "  'timeHigh': '2021-03-21T16:20:11.000Z',\n",
       "  'timeLow': '2021-03-21T12:29:08.000Z',\n",
       "  'quote': {'open': 0.3835044,\n",
       "   'high': 0.39930175,\n",
       "   'low': 0.36579583,\n",
       "   'close': 0.38107201,\n",
       "   'volume': 233175577.53,\n",
       "   'marketCap': 1909649177.71,\n",
       "   'timestamp': '2021-03-21T23:59:59.999Z'}},\n",
       " {'timeOpen': '2021-03-25T00:00:00.000Z',\n",
       "  'timeClose': '2021-03-25T23:59:59.999Z',\n",
       "  'timeHigh': '2021-03-25T05:38:08.000Z',\n",
       "  'timeLow': '2021-03-25T23:47:08.000Z',\n",
       "  'quote': {'open': 0.32394106,\n",
       "   'high': 0.33763336,\n",
       "   'low': 0.30010284,\n",
       "   'close': 0.30185064,\n",
       "   'volume': 242430418.01,\n",
       "   'marketCap': 1512650662.58,\n",
       "   'timestamp': '2021-03-25T23:59:59.999Z'}},\n",
       " {'timeOpen': '2021-03-29T00:00:00.000Z',\n",
       "  'timeClose': '2021-03-29T23:59:59.999Z',\n",
       "  'timeHigh': '2021-03-29T18:37:08.000Z',\n",
       "  'timeLow': '2021-03-29T05:42:10.000Z',\n",
       "  'quote': {'open': 0.34650543,\n",
       "   'high': 0.42209601,\n",
       "   'low': 0.33821418,\n",
       "   'close': 0.38394602,\n",
       "   'volume': 515212013.29,\n",
       "   'marketCap': 1924051587.27,\n",
       "   'timestamp': '2021-03-29T23:59:59.999Z'}},\n",
       " {'timeOpen': '2021-04-01T00:00:00.000Z',\n",
       "  'timeClose': '2021-04-01T23:59:59.999Z',\n",
       "  'timeHigh': '2021-04-01T02:56:08.000Z',\n",
       "  'timeLow': '2021-04-01T18:20:12.000Z',\n",
       "  'quote': {'open': 0.36032419,\n",
       "   'high': 0.37789431,\n",
       "   'low': 0.35497828,\n",
       "   'close': 0.36422169,\n",
       "   'volume': 211284882.0,\n",
       "   'marketCap': 1825207914.57,\n",
       "   'timestamp': '2021-04-01T23:59:59.999Z'}},\n",
       " {'timeOpen': '2021-04-05T00:00:00.000Z',\n",
       "  'timeClose': '2021-04-05T23:59:59.999Z',\n",
       "  'timeHigh': '2021-04-05T22:15:18.000Z',\n",
       "  'timeLow': '2021-04-05T07:05:10.000Z',\n",
       "  'quote': {'open': 0.36265958,\n",
       "   'high': 0.37012205,\n",
       "   'low': 0.35088794,\n",
       "   'close': 0.37003317,\n",
       "   'volume': 225534790.47,\n",
       "   'marketCap': 1864370707.8,\n",
       "   'timestamp': '2021-04-05T23:59:59.999Z'}},\n",
       " {'timeOpen': '2021-04-09T00:00:00.000Z',\n",
       "  'timeClose': '2021-04-09T23:59:59.999Z',\n",
       "  'timeHigh': '2021-04-09T19:45:19.000Z',\n",
       "  'timeLow': '2021-04-09T08:37:08.000Z',\n",
       "  'quote': {'open': 0.35620335,\n",
       "   'high': 0.38384015,\n",
       "   'low': 0.3502501,\n",
       "   'close': 0.36760301,\n",
       "   'volume': 173371169.79,\n",
       "   'marketCap': 1852126634.17,\n",
       "   'timestamp': '2021-04-09T23:59:59.999Z'}},\n",
       " {'timeOpen': '2021-04-12T00:00:00.000Z',\n",
       "  'timeClose': '2021-04-12T23:59:59.999Z',\n",
       "  'timeHigh': '2021-04-12T00:03:09.000Z',\n",
       "  'timeLow': '2021-04-12T09:58:08.000Z',\n",
       "  'quote': {'open': 0.37030421,\n",
       "   'high': 0.37313837,\n",
       "   'low': 0.35093597,\n",
       "   'close': 0.35804441,\n",
       "   'volume': 147382913.3,\n",
       "   'marketCap': 1803966688.51,\n",
       "   'timestamp': '2021-04-12T23:59:59.999Z'}},\n",
       " {'timeOpen': '2021-04-16T00:00:00.000Z',\n",
       "  'timeClose': '2021-04-16T23:59:59.999Z',\n",
       "  'timeHigh': '2021-04-16T01:04:09.000Z',\n",
       "  'timeLow': '2021-04-16T11:21:14.000Z',\n",
       "  'quote': {'open': 0.4409904,\n",
       "   'high': 0.46734241,\n",
       "   'low': 0.40882475,\n",
       "   'close': 0.43644732,\n",
       "   'volume': 398692668.77,\n",
       "   'marketCap': 2264458089.17,\n",
       "   'timestamp': '2021-04-16T23:59:59.999Z'}},\n",
       " {'timeOpen': '2021-04-20T00:00:00.000Z',\n",
       "  'timeClose': '2021-04-20T23:59:59.999Z',\n",
       "  'timeHigh': '2021-04-20T14:24:08.000Z',\n",
       "  'timeLow': '2021-04-20T07:38:08.000Z',\n",
       "  'quote': {'open': 0.32550672,\n",
       "   'high': 0.35106109,\n",
       "   'low': 0.29846957,\n",
       "   'close': 0.3415241,\n",
       "   'volume': 249383388.53,\n",
       "   'marketCap': 1771959588.29,\n",
       "   'timestamp': '2021-04-20T23:59:59.999Z'}},\n",
       " {'timeOpen': '2021-04-23T00:00:00.000Z',\n",
       "  'timeClose': '2021-04-23T23:59:59.999Z',\n",
       "  'timeHigh': '2021-04-23T23:30:13.000Z',\n",
       "  'timeLow': '2021-04-23T02:26:10.000Z',\n",
       "  'quote': {'open': 0.35011969,\n",
       "   'high': 0.38692188,\n",
       "   'low': 0.29910723,\n",
       "   'close': 0.38180802,\n",
       "   'volume': 469766101.82,\n",
       "   'marketCap': 1980968202.78,\n",
       "   'timestamp': '2021-04-23T23:59:59.999Z'}},\n",
       " {'timeOpen': '2021-04-27T00:00:00.000Z',\n",
       "  'timeClose': '2021-04-27T23:59:59.999Z',\n",
       "  'timeHigh': '2021-04-27T23:55:09.000Z',\n",
       "  'timeLow': '2021-04-27T00:01:09.000Z',\n",
       "  'quote': {'open': 0.53622188,\n",
       "   'high': 0.8430789,\n",
       "   'low': 0.53576443,\n",
       "   'close': 0.8327537,\n",
       "   'volume': 2631901892.48,\n",
       "   'marketCap': 4320649430.52,\n",
       "   'timestamp': '2021-04-27T23:59:59.999Z'}},\n",
       " {'timeOpen': '2021-05-01T00:00:00.000Z',\n",
       "  'timeClose': '2021-05-01T23:59:59.999Z',\n",
       "  'timeHigh': '2021-05-01T17:00:10.000Z',\n",
       "  'timeLow': '2021-05-01T09:16:09.000Z',\n",
       "  'quote': {'open': 0.82068197,\n",
       "   'high': 0.8396656,\n",
       "   'low': 0.77228746,\n",
       "   'close': 0.78682122,\n",
       "   'volume': 966733866.58,\n",
       "   'marketCap': 4082333891.68,\n",
       "   'timestamp': '2021-05-01T23:59:59.999Z'}},\n",
       " {'timeOpen': '2021-05-04T00:00:00.000Z',\n",
       "  'timeClose': '2021-05-04T23:59:59.999Z',\n",
       "  'timeHigh': '2021-05-04T07:06:10.000Z',\n",
       "  'timeLow': '2021-05-04T16:52:07.000Z',\n",
       "  'quote': {'open': 0.7950661,\n",
       "   'high': 0.79798827,\n",
       "   'low': 0.69081887,\n",
       "   'close': 0.70438289,\n",
       "   'volume': 787329350.72,\n",
       "   'marketCap': 3654611810.14,\n",
       "   'timestamp': '2021-05-04T23:59:59.999Z'}},\n",
       " {'timeOpen': '2021-05-08T00:00:00.000Z',\n",
       "  'timeClose': '2021-05-08T23:59:59.999Z',\n",
       "  'timeHigh': '2021-05-08T23:57:12.000Z',\n",
       "  'timeLow': '2021-05-08T00:13:09.000Z',\n",
       "  'quote': {'open': 0.75146265,\n",
       "   'high': 0.84910487,\n",
       "   'low': 0.73221016,\n",
       "   'close': 0.84825804,\n",
       "   'volume': 757402832.66,\n",
       "   'marketCap': 4401091970.2,\n",
       "   'timestamp': '2021-05-08T23:59:59.999Z'}},\n",
       " {'timeOpen': '2021-05-12T00:00:00.000Z',\n",
       "  'timeClose': '2021-05-12T23:59:59.999Z',\n",
       "  'timeHigh': '2021-05-12T11:54:10.000Z',\n",
       "  'timeLow': '2021-05-12T23:59:10.000Z',\n",
       "  'quote': {'open': 1.06663404,\n",
       "   'high': 1.22497925,\n",
       "   'low': 1.01901392,\n",
       "   'close': 1.01901392,\n",
       "   'volume': 2497330381.95,\n",
       "   'marketCap': 5287039730.81,\n",
       "   'timestamp': '2021-05-12T23:59:59.999Z'}},\n",
       " {'timeOpen': '2021-05-15T00:00:00.000Z',\n",
       "  'timeClose': '2021-05-15T23:59:59.999Z',\n",
       "  'timeHigh': '2021-05-15T13:47:09.000Z',\n",
       "  'timeLow': '2021-05-15T00:00:13.000Z',\n",
       "  'quote': {'open': 1.47155433,\n",
       "   'high': 1.88758526,\n",
       "   'low': 1.47155433,\n",
       "   'close': 1.60818498,\n",
       "   'volume': 5946636441.3,\n",
       "   'marketCap': 9844650617.52,\n",
       "   'timestamp': '2021-05-15T23:59:59.999Z'}},\n",
       " {'timeOpen': '2021-05-19T00:00:00.000Z',\n",
       "  'timeClose': '2021-05-19T23:59:59.999Z',\n",
       "  'timeHigh': '2021-05-19T06:28:10.000Z',\n",
       "  'timeLow': '2021-05-19T13:10:10.000Z',\n",
       "  'quote': {'open': 2.44830892,\n",
       "   'high': 2.63074086,\n",
       "   'low': 1.07102451,\n",
       "   'close': 1.65939015,\n",
       "   'volume': 9181248216.47,\n",
       "   'marketCap': 10197933063.2,\n",
       "   'timestamp': '2021-05-19T23:59:59.999Z'}},\n",
       " {'timeOpen': '2021-05-23T00:00:00.000Z',\n",
       "  'timeClose': '2021-05-23T23:59:59.999Z',\n",
       "  'timeHigh': '2021-05-23T00:51:10.000Z',\n",
       "  'timeLow': '2021-05-23T16:42:19.000Z',\n",
       "  'quote': {'open': 1.19554776,\n",
       "   'high': 1.25620985,\n",
       "   'low': 0.74911706,\n",
       "   'close': 1.08671521,\n",
       "   'volume': 3787398514.97,\n",
       "   'marketCap': 6698067049.2,\n",
       "   'timestamp': '2021-05-23T23:59:59.999Z'}},\n",
       " {'timeOpen': '2021-05-26T00:00:00.000Z',\n",
       "  'timeClose': '2021-05-26T23:59:59.999Z',\n",
       "  'timeHigh': '2021-05-26T12:24:16.000Z',\n",
       "  'timeLow': '2021-05-26T00:44:10.000Z',\n",
       "  'quote': {'open': 1.93821956,\n",
       "   'high': 2.43849616,\n",
       "   'low': 1.83648981,\n",
       "   'close': 2.21016696,\n",
       "   'volume': 8204673882.71,\n",
       "   'marketCap': 13728651094.68,\n",
       "   'timestamp': '2021-05-26T23:59:59.999Z'}},\n",
       " {'timeOpen': '2021-05-30T00:00:00.000Z',\n",
       "  'timeClose': '2021-05-30T23:59:59.999Z',\n",
       "  'timeHigh': '2021-05-30T06:06:17.000Z',\n",
       "  'timeLow': '2021-05-30T00:37:09.000Z',\n",
       "  'quote': {'open': 1.6914464,\n",
       "   'high': 1.9672198,\n",
       "   'low': 1.55619187,\n",
       "   'close': 1.8649378,\n",
       "   'volume': 4118454690.4,\n",
       "   'marketCap': 11584229101.16,\n",
       "   'timestamp': '2021-05-30T23:59:59.999Z'}},\n",
       " {'timeOpen': '2021-06-03T00:00:00.000Z',\n",
       "  'timeClose': '2021-06-03T23:59:59.999Z',\n",
       "  'timeHigh': '2021-06-03T10:03:14.000Z',\n",
       "  'timeLow': '2021-06-03T02:33:17.000Z',\n",
       "  'quote': {'open': 1.80023962,\n",
       "   'high': 1.88554886,\n",
       "   'low': 1.76424635,\n",
       "   'close': 1.82384623,\n",
       "   'volume': 1502571187.99,\n",
       "   'marketCap': 11421088581.09,\n",
       "   'timestamp': '2021-06-03T23:59:59.999Z'}},\n",
       " {'timeOpen': '2021-06-06T00:00:00.000Z',\n",
       "  'timeClose': '2021-06-06T23:59:59.999Z',\n",
       "  'timeHigh': '2021-06-06T09:01:09.000Z',\n",
       "  'timeLow': '2021-06-06T00:14:08.000Z',\n",
       "  'quote': {'open': 1.52757006,\n",
       "   'high': 1.59063675,\n",
       "   'low': 1.51248024,\n",
       "   'close': 1.58342795,\n",
       "   'volume': 1026604650.75,\n",
       "   'marketCap': 9958530384.06,\n",
       "   'timestamp': '2021-06-06T23:59:59.999Z'}},\n",
       " {'timeOpen': '2021-06-10T00:00:00.000Z',\n",
       "  'timeClose': '2021-06-10T23:59:59.999Z',\n",
       "  'timeHigh': '2021-06-10T01:23:09.000Z',\n",
       "  'timeLow': '2021-06-10T20:34:09.000Z',\n",
       "  'quote': {'open': 1.49097502,\n",
       "   'high': 1.49721708,\n",
       "   'low': 1.35536849,\n",
       "   'close': 1.36220509,\n",
       "   'volume': 1083382349.95,\n",
       "   'marketCap': 8572931952.15,\n",
       "   'timestamp': '2021-06-10T23:59:59.999Z'}},\n",
       " {'timeOpen': '2021-06-14T00:00:00.000Z',\n",
       "  'timeClose': '2021-06-14T23:59:59.999Z',\n",
       "  'timeHigh': '2021-06-14T14:38:12.000Z',\n",
       "  'timeLow': '2021-06-14T03:45:17.000Z',\n",
       "  'quote': {'open': 1.46522729,\n",
       "   'high': 1.59735497,\n",
       "   'low': 1.41481411,\n",
       "   'close': 1.47786265,\n",
       "   'volume': 1415033590.95,\n",
       "   'marketCap': 9300813770.89,\n",
       "   'timestamp': '2021-06-14T23:59:59.999Z'}},\n",
       " {'timeOpen': '2021-06-17T00:00:00.000Z',\n",
       "  'timeClose': '2021-06-17T23:59:59.999Z',\n",
       "  'timeHigh': '2021-06-17T11:48:09.000Z',\n",
       "  'timeLow': '2021-06-17T00:23:09.000Z',\n",
       "  'quote': {'open': 1.4789231,\n",
       "   'high': 1.55696268,\n",
       "   'low': 1.4551554,\n",
       "   'close': 1.5037943,\n",
       "   'volume': 1089042381.29,\n",
       "   'marketCap': 9464012623.91,\n",
       "   'timestamp': '2021-06-17T23:59:59.999Z'}}]"
      ]
     },
     "execution_count": 3,
     "metadata": {},
     "output_type": "execute_result"
    }
   ],
   "source": [
    "data_final"
   ]
  },
  {
   "cell_type": "markdown",
   "id": "productive-likelihood",
   "metadata": {
    "papermill": {
     "duration": 0.031076,
     "end_time": "2021-06-18T05:36:45.068672",
     "exception": false,
     "start_time": "2021-06-18T05:36:45.037596",
     "status": "completed"
    },
    "tags": []
   },
   "source": [
    "# Exploratory Data Analytics"
   ]
  },
  {
   "cell_type": "code",
   "execution_count": 4,
   "id": "rotary-timing",
   "metadata": {
    "execution": {
     "iopub.execute_input": "2021-06-18T05:36:45.143297Z",
     "iopub.status.busy": "2021-06-18T05:36:45.142567Z",
     "iopub.status.idle": "2021-06-18T05:36:45.164860Z",
     "shell.execute_reply": "2021-06-18T05:36:45.165344Z",
     "shell.execute_reply.started": "2021-06-18T04:00:03.570016Z"
    },
    "papermill": {
     "duration": 0.064466,
     "end_time": "2021-06-18T05:36:45.165530",
     "exception": false,
     "start_time": "2021-06-18T05:36:45.101064",
     "status": "completed"
    },
    "tags": []
   },
   "outputs": [
    {
     "data": {
      "text/html": [
       "<div>\n",
       "<style scoped>\n",
       "    .dataframe tbody tr th:only-of-type {\n",
       "        vertical-align: middle;\n",
       "    }\n",
       "\n",
       "    .dataframe tbody tr th {\n",
       "        vertical-align: top;\n",
       "    }\n",
       "\n",
       "    .dataframe thead th {\n",
       "        text-align: right;\n",
       "    }\n",
       "</style>\n",
       "<table border=\"1\" class=\"dataframe\">\n",
       "  <thead>\n",
       "    <tr style=\"text-align: right;\">\n",
       "      <th></th>\n",
       "      <th>open</th>\n",
       "      <th>high</th>\n",
       "      <th>low</th>\n",
       "      <th>close</th>\n",
       "      <th>volume</th>\n",
       "      <th>marketCap</th>\n",
       "      <th>date</th>\n",
       "    </tr>\n",
       "  </thead>\n",
       "  <tbody>\n",
       "    <tr>\n",
       "      <th>0</th>\n",
       "      <td>0.020738</td>\n",
       "      <td>0.020767</td>\n",
       "      <td>0.020227</td>\n",
       "      <td>0.020470</td>\n",
       "      <td>1.615291e+07</td>\n",
       "      <td>7.135128e+07</td>\n",
       "      <td>2020-06-18T23:59:59.999Z</td>\n",
       "    </tr>\n",
       "    <tr>\n",
       "      <th>1</th>\n",
       "      <td>0.022574</td>\n",
       "      <td>0.022993</td>\n",
       "      <td>0.021276</td>\n",
       "      <td>0.021406</td>\n",
       "      <td>3.665211e+07</td>\n",
       "      <td>7.461313e+07</td>\n",
       "      <td>2020-06-21T23:59:59.999Z</td>\n",
       "    </tr>\n",
       "    <tr>\n",
       "      <th>2</th>\n",
       "      <td>0.022392</td>\n",
       "      <td>0.022392</td>\n",
       "      <td>0.021410</td>\n",
       "      <td>0.021591</td>\n",
       "      <td>1.770901e+07</td>\n",
       "      <td>7.530906e+07</td>\n",
       "      <td>2020-06-25T23:59:59.999Z</td>\n",
       "    </tr>\n",
       "    <tr>\n",
       "      <th>3</th>\n",
       "      <td>0.020103</td>\n",
       "      <td>0.020411</td>\n",
       "      <td>0.019020</td>\n",
       "      <td>0.019687</td>\n",
       "      <td>2.297968e+07</td>\n",
       "      <td>6.866868e+07</td>\n",
       "      <td>2020-06-29T23:59:59.999Z</td>\n",
       "    </tr>\n",
       "    <tr>\n",
       "      <th>4</th>\n",
       "      <td>0.018717</td>\n",
       "      <td>0.019404</td>\n",
       "      <td>0.018340</td>\n",
       "      <td>0.019105</td>\n",
       "      <td>1.765404e+07</td>\n",
       "      <td>6.676767e+07</td>\n",
       "      <td>2020-07-02T23:59:59.999Z</td>\n",
       "    </tr>\n",
       "  </tbody>\n",
       "</table>\n",
       "</div>"
      ],
      "text/plain": [
       "       open      high       low     close        volume     marketCap  \\\n",
       "0  0.020738  0.020767  0.020227  0.020470  1.615291e+07  7.135128e+07   \n",
       "1  0.022574  0.022993  0.021276  0.021406  3.665211e+07  7.461313e+07   \n",
       "2  0.022392  0.022392  0.021410  0.021591  1.770901e+07  7.530906e+07   \n",
       "3  0.020103  0.020411  0.019020  0.019687  2.297968e+07  6.866868e+07   \n",
       "4  0.018717  0.019404  0.018340  0.019105  1.765404e+07  6.676767e+07   \n",
       "\n",
       "                       date  \n",
       "0  2020-06-18T23:59:59.999Z  \n",
       "1  2020-06-21T23:59:59.999Z  \n",
       "2  2020-06-25T23:59:59.999Z  \n",
       "3  2020-06-29T23:59:59.999Z  \n",
       "4  2020-07-02T23:59:59.999Z  "
      ]
     },
     "execution_count": 4,
     "metadata": {},
     "output_type": "execute_result"
    }
   ],
   "source": [
    "df.head()"
   ]
  },
  {
   "cell_type": "code",
   "execution_count": 5,
   "id": "fossil-moldova",
   "metadata": {
    "execution": {
     "iopub.execute_input": "2021-06-18T05:36:45.237203Z",
     "iopub.status.busy": "2021-06-18T05:36:45.236503Z",
     "iopub.status.idle": "2021-06-18T05:36:45.239424Z",
     "shell.execute_reply": "2021-06-18T05:36:45.239844Z",
     "shell.execute_reply.started": "2021-06-18T04:00:03.613346Z"
    },
    "papermill": {
     "duration": 0.041107,
     "end_time": "2021-06-18T05:36:45.240036",
     "exception": false,
     "start_time": "2021-06-18T05:36:45.198929",
     "status": "completed"
    },
    "tags": []
   },
   "outputs": [
    {
     "data": {
      "text/plain": [
       "(100, 7)"
      ]
     },
     "execution_count": 5,
     "metadata": {},
     "output_type": "execute_result"
    }
   ],
   "source": [
    "df.shape"
   ]
  },
  {
   "cell_type": "code",
   "execution_count": 6,
   "id": "german-patch",
   "metadata": {
    "execution": {
     "iopub.execute_input": "2021-06-18T05:36:45.312692Z",
     "iopub.status.busy": "2021-06-18T05:36:45.312054Z",
     "iopub.status.idle": "2021-06-18T05:36:45.335841Z",
     "shell.execute_reply": "2021-06-18T05:36:45.336561Z",
     "shell.execute_reply.started": "2021-06-18T04:00:03.621962Z"
    },
    "papermill": {
     "duration": 0.064583,
     "end_time": "2021-06-18T05:36:45.336853",
     "exception": false,
     "start_time": "2021-06-18T05:36:45.272270",
     "status": "completed"
    },
    "tags": []
   },
   "outputs": [
    {
     "name": "stdout",
     "output_type": "stream",
     "text": [
      "<class 'pandas.core.frame.DataFrame'>\n",
      "RangeIndex: 100 entries, 0 to 99\n",
      "Data columns (total 7 columns):\n",
      " #   Column     Non-Null Count  Dtype  \n",
      "---  ------     --------------  -----  \n",
      " 0   open       100 non-null    float64\n",
      " 1   high       100 non-null    float64\n",
      " 2   low        100 non-null    float64\n",
      " 3   close      100 non-null    float64\n",
      " 4   volume     100 non-null    float64\n",
      " 5   marketCap  100 non-null    float64\n",
      " 6   date       100 non-null    object \n",
      "dtypes: float64(6), object(1)\n",
      "memory usage: 5.6+ KB\n"
     ]
    }
   ],
   "source": [
    "df.info()"
   ]
  },
  {
   "cell_type": "code",
   "execution_count": 7,
   "id": "searching-hampton",
   "metadata": {
    "execution": {
     "iopub.execute_input": "2021-06-18T05:36:45.412794Z",
     "iopub.status.busy": "2021-06-18T05:36:45.412084Z",
     "iopub.status.idle": "2021-06-18T05:36:45.416060Z",
     "shell.execute_reply": "2021-06-18T05:36:45.416552Z",
     "shell.execute_reply.started": "2021-06-18T04:00:03.657900Z"
    },
    "papermill": {
     "duration": 0.045519,
     "end_time": "2021-06-18T05:36:45.416779",
     "exception": false,
     "start_time": "2021-06-18T05:36:45.371260",
     "status": "completed"
    },
    "tags": []
   },
   "outputs": [],
   "source": [
    "df['date'] = pd.to_datetime(df['date'],format=\"%Y-%d-%m %H:%M:%S\",infer_datetime_format=True) "
   ]
  },
  {
   "cell_type": "code",
   "execution_count": 38,
   "id": "measured-promotion",
   "metadata": {
    "execution": {
     "iopub.execute_input": "2021-06-18T05:36:45.485324Z",
     "iopub.status.busy": "2021-06-18T05:36:45.484373Z",
     "iopub.status.idle": "2021-06-18T05:36:45.499373Z",
     "shell.execute_reply": "2021-06-18T05:36:45.498274Z",
     "shell.execute_reply.started": "2021-06-18T04:00:08.057508Z"
    },
    "papermill": {
     "duration": 0.049753,
     "end_time": "2021-06-18T05:36:45.499770",
     "exception": false,
     "start_time": "2021-06-18T05:36:45.450017",
     "status": "completed"
    },
    "tags": []
   },
   "outputs": [
    {
     "name": "stdout",
     "output_type": "stream",
     "text": [
      "<class 'pandas.core.frame.DataFrame'>\n",
      "DatetimeIndex: 100 entries, 2020-06-18 23:59:59.999000+00:00 to 2021-06-17 23:59:59.999000+00:00\n",
      "Data columns (total 6 columns):\n",
      " #   Column     Non-Null Count  Dtype  \n",
      "---  ------     --------------  -----  \n",
      " 0   open       100 non-null    float64\n",
      " 1   high       100 non-null    float64\n",
      " 2   low        100 non-null    float64\n",
      " 3   close      100 non-null    float64\n",
      " 4   volume     100 non-null    float64\n",
      " 5   marketCap  100 non-null    float64\n",
      "dtypes: float64(6)\n",
      "memory usage: 5.5 KB\n"
     ]
    }
   ],
   "source": [
    "df.info()"
   ]
  },
  {
   "cell_type": "code",
   "execution_count": 9,
   "id": "million-invention",
   "metadata": {
    "execution": {
     "iopub.execute_input": "2021-06-18T05:36:45.576516Z",
     "iopub.status.busy": "2021-06-18T05:36:45.575741Z",
     "iopub.status.idle": "2021-06-18T05:36:45.579192Z",
     "shell.execute_reply": "2021-06-18T05:36:45.578629Z",
     "shell.execute_reply.started": "2021-06-18T04:00:11.415694Z"
    },
    "papermill": {
     "duration": 0.044831,
     "end_time": "2021-06-18T05:36:45.579365",
     "exception": false,
     "start_time": "2021-06-18T05:36:45.534534",
     "status": "completed"
    },
    "tags": []
   },
   "outputs": [],
   "source": [
    "df.sort_values(by=['date'],inplace=True)"
   ]
  },
  {
   "cell_type": "code",
   "execution_count": 10,
   "id": "other-knock",
   "metadata": {
    "execution": {
     "iopub.execute_input": "2021-06-18T05:36:45.655288Z",
     "iopub.status.busy": "2021-06-18T05:36:45.654654Z",
     "iopub.status.idle": "2021-06-18T05:36:45.657903Z",
     "shell.execute_reply": "2021-06-18T05:36:45.657420Z",
     "shell.execute_reply.started": "2021-06-18T04:00:11.744425Z"
    },
    "papermill": {
     "duration": 0.04524,
     "end_time": "2021-06-18T05:36:45.658066",
     "exception": false,
     "start_time": "2021-06-18T05:36:45.612826",
     "status": "completed"
    },
    "tags": []
   },
   "outputs": [],
   "source": [
    "df.set_index(df['date'],inplace=True)"
   ]
  },
  {
   "cell_type": "code",
   "execution_count": 11,
   "id": "regional-administrator",
   "metadata": {
    "execution": {
     "iopub.execute_input": "2021-06-18T05:36:45.732930Z",
     "iopub.status.busy": "2021-06-18T05:36:45.732273Z",
     "iopub.status.idle": "2021-06-18T05:36:45.735784Z",
     "shell.execute_reply": "2021-06-18T05:36:45.735155Z",
     "shell.execute_reply.started": "2021-06-18T04:00:12.352565Z"
    },
    "papermill": {
     "duration": 0.043837,
     "end_time": "2021-06-18T05:36:45.735950",
     "exception": false,
     "start_time": "2021-06-18T05:36:45.692113",
     "status": "completed"
    },
    "tags": []
   },
   "outputs": [],
   "source": [
    "df.drop(['date'], axis=1, inplace=True)"
   ]
  },
  {
   "cell_type": "code",
   "execution_count": 12,
   "id": "competitive-commerce",
   "metadata": {
    "execution": {
     "iopub.execute_input": "2021-06-18T05:36:45.805301Z",
     "iopub.status.busy": "2021-06-18T05:36:45.804671Z",
     "iopub.status.idle": "2021-06-18T05:36:46.117677Z",
     "shell.execute_reply": "2021-06-18T05:36:46.118134Z",
     "shell.execute_reply.started": "2021-06-18T04:05:13.081909Z"
    },
    "papermill": {
     "duration": 0.350172,
     "end_time": "2021-06-18T05:36:46.118337",
     "exception": false,
     "start_time": "2021-06-18T05:36:45.768165",
     "status": "completed"
    },
    "tags": []
   },
   "outputs": [
    {
     "data": {
      "image/png": "[encoded data removed]",
      "text/plain": [
       "<Figure size 432x288 with 1 Axes>"
      ]
     },
     "metadata": {
      "needs_background": "light"
     },
     "output_type": "display_data"
    }
   ],
   "source": [
    "df.plot();"
   ]
  },
  {
   "cell_type": "code",
   "execution_count": 13,
   "id": "minute-bottom",
   "metadata": {
    "execution": {
     "iopub.execute_input": "2021-06-18T05:36:46.231268Z",
     "iopub.status.busy": "2021-06-18T05:36:46.211434Z",
     "iopub.status.idle": "2021-06-18T05:36:46.343237Z",
     "shell.execute_reply": "2021-06-18T05:36:46.342028Z",
     "shell.execute_reply.started": "2021-06-18T04:03:34.531622Z"
    },
    "papermill": {
     "duration": 0.191672,
     "end_time": "2021-06-18T05:36:46.343419",
     "exception": false,
     "start_time": "2021-06-18T05:36:46.151747",
     "status": "completed"
    },
    "tags": []
   },
   "outputs": [
    {
     "data": {
      "image/png": "[encoded data removed]",
      "text/plain": [
       "<Figure size 432x288 with 1 Axes>"
      ]
     },
     "metadata": {
      "needs_background": "light"
     },
     "output_type": "display_data"
    }
   ],
   "source": [
    "plt.plot(df['open']);"
   ]
  },
  {
   "cell_type": "code",
   "execution_count": 14,
   "id": "smart-being",
   "metadata": {
    "execution": {
     "iopub.execute_input": "2021-06-18T05:36:46.441259Z",
     "iopub.status.busy": "2021-06-18T05:36:46.436731Z",
     "iopub.status.idle": "2021-06-18T05:36:46.580616Z",
     "shell.execute_reply": "2021-06-18T05:36:46.581543Z",
     "shell.execute_reply.started": "2021-06-18T04:03:46.129012Z"
    },
    "papermill": {
     "duration": 0.201646,
     "end_time": "2021-06-18T05:36:46.581765",
     "exception": false,
     "start_time": "2021-06-18T05:36:46.380119",
     "status": "completed"
    },
    "tags": []
   },
   "outputs": [
    {
     "data": {
      "image/png": "[encoded data removed]",
      "text/plain": [
       "<Figure size 432x288 with 1 Axes>"
      ]
     },
     "metadata": {
      "needs_background": "light"
     },
     "output_type": "display_data"
    }
   ],
   "source": [
    "plt.plot(df['close']);"
   ]
  },
  {
   "cell_type": "code",
   "execution_count": 15,
   "id": "textile-demonstration",
   "metadata": {
    "execution": {
     "iopub.execute_input": "2021-06-18T05:36:46.673686Z",
     "iopub.status.busy": "2021-06-18T05:36:46.671925Z",
     "iopub.status.idle": "2021-06-18T05:36:46.816943Z",
     "shell.execute_reply": "2021-06-18T05:36:46.816433Z",
     "shell.execute_reply.started": "2021-06-18T04:04:05.564667Z"
    },
    "papermill": {
     "duration": 0.200275,
     "end_time": "2021-06-18T05:36:46.817102",
     "exception": false,
     "start_time": "2021-06-18T05:36:46.616827",
     "status": "completed"
    },
    "tags": []
   },
   "outputs": [
    {
     "data": {
      "image/png": "[encoded data removed]",
      "text/plain": [
       "<Figure size 432x288 with 1 Axes>"
      ]
     },
     "metadata": {
      "needs_background": "light"
     },
     "output_type": "display_data"
    }
   ],
   "source": [
    "plt.plot(df['high']);"
   ]
  },
  {
   "cell_type": "code",
   "execution_count": 16,
   "id": "excited-calgary",
   "metadata": {
    "execution": {
     "iopub.execute_input": "2021-06-18T05:36:46.915119Z",
     "iopub.status.busy": "2021-06-18T05:36:46.910284Z",
     "iopub.status.idle": "2021-06-18T05:36:47.052998Z",
     "shell.execute_reply": "2021-06-18T05:36:47.053427Z",
     "shell.execute_reply.started": "2021-06-18T04:04:15.849763Z"
    },
    "papermill": {
     "duration": 0.199749,
     "end_time": "2021-06-18T05:36:47.053626",
     "exception": false,
     "start_time": "2021-06-18T05:36:46.853877",
     "status": "completed"
    },
    "tags": []
   },
   "outputs": [
    {
     "data": {
      "image/png": "[encoded data removed]",
      "text/plain": [
       "<Figure size 432x288 with 1 Axes>"
      ]
     },
     "metadata": {
      "needs_background": "light"
     },
     "output_type": "display_data"
    }
   ],
   "source": [
    "plt.plot(df['low']);"
   ]
  },
  {
   "cell_type": "code",
   "execution_count": 17,
   "id": "designed-weight",
   "metadata": {
    "execution": {
     "iopub.execute_input": "2021-06-18T05:36:47.153823Z",
     "iopub.status.busy": "2021-06-18T05:36:47.153166Z",
     "iopub.status.idle": "2021-06-18T05:36:47.305867Z",
     "shell.execute_reply": "2021-06-18T05:36:47.305226Z",
     "shell.execute_reply.started": "2021-06-18T04:04:24.602188Z"
    },
    "papermill": {
     "duration": 0.211943,
     "end_time": "2021-06-18T05:36:47.306027",
     "exception": false,
     "start_time": "2021-06-18T05:36:47.094084",
     "status": "completed"
    },
    "tags": []
   },
   "outputs": [
    {
     "data": {
      "image/png": "[encoded data removed]",
      "text/plain": [
       "<Figure size 432x288 with 1 Axes>"
      ]
     },
     "metadata": {
      "needs_background": "light"
     },
     "output_type": "display_data"
    }
   ],
   "source": [
    "plt.plot(df['volume']);"
   ]
  },
  {
   "cell_type": "code",
   "execution_count": 18,
   "id": "unsigned-watson",
   "metadata": {
    "execution": {
     "iopub.execute_input": "2021-06-18T05:36:47.446146Z",
     "iopub.status.busy": "2021-06-18T05:36:47.419594Z",
     "iopub.status.idle": "2021-06-18T05:36:47.585460Z",
     "shell.execute_reply": "2021-06-18T05:36:47.585902Z",
     "shell.execute_reply.started": "2021-06-18T04:04:37.322162Z"
    },
    "papermill": {
     "duration": 0.241913,
     "end_time": "2021-06-18T05:36:47.586149",
     "exception": false,
     "start_time": "2021-06-18T05:36:47.344236",
     "status": "completed"
    },
    "tags": []
   },
   "outputs": [
    {
     "data": {
      "image/png": "[encoded data removed]",
      "text/plain": [
       "<Figure size 432x288 with 1 Axes>"
      ]
     },
     "metadata": {
      "needs_background": "light"
     },
     "output_type": "display_data"
    }
   ],
   "source": [
    "plt.plot(df['marketCap']);"
   ]
  },
  {
   "cell_type": "markdown",
   "id": "mineral-citizenship",
   "metadata": {
    "papermill": {
     "duration": 0.037104,
     "end_time": "2021-06-18T05:36:47.659865",
     "exception": false,
     "start_time": "2021-06-18T05:36:47.622761",
     "status": "completed"
    },
    "tags": []
   },
   "source": [
    "# Stationarity check"
   ]
  },
  {
   "cell_type": "code",
   "execution_count": 40,
   "id": "equivalent-pierre",
   "metadata": {
    "execution": {
     "iopub.execute_input": "2021-06-18T05:36:47.740386Z",
     "iopub.status.busy": "2021-06-18T05:36:47.739751Z",
     "iopub.status.idle": "2021-06-18T05:36:47.877817Z",
     "shell.execute_reply": "2021-06-18T05:36:47.878600Z",
     "shell.execute_reply.started": "2021-06-18T04:08:48.929375Z"
    },
    "papermill": {
     "duration": 0.18265,
     "end_time": "2021-06-18T05:36:47.878959",
     "exception": false,
     "start_time": "2021-06-18T05:36:47.696309",
     "status": "completed"
    },
    "tags": []
   },
   "outputs": [
    {
     "name": "stdout",
     "output_type": "stream",
     "text": [
      "p-value for open: 1.0\n",
      "p-value for close: 0.9961342390948348\n",
      "p-value for high: 1.0\n",
      "p-value for low: 1.0\n",
      "p-value for volume: 0.9565963872043038\n",
      "p-value for marketCap: 0.9986662609819753\n"
     ]
    }
   ],
   "source": [
    "adf_open = adfuller(df['open'])\n",
    "adf_close = adfuller(df['close'])\n",
    "adf_high = adfuller(df['high'])\n",
    "adf_low = adfuller(df['low'])\n",
    "adf_volume = adfuller(df['volume'])\n",
    "adf_marketCap = adfuller(df['marketCap'])\n",
    "print(\"p-value for open: {}\".format(adf_open[1]))\n",
    "print(\"p-value for close: {}\".format(adf_close[1]))\n",
    "print(\"p-value for high: {}\".format(adf_high[1]))\n",
    "print(\"p-value for low: {}\".format(adf_low[1]))\n",
    "print(\"p-value for volume: {}\".format(adf_volume[1]))\n",
    "print(\"p-value for marketCap: {}\".format(adf_marketCap[1]))"
   ]
  },
  {
   "cell_type": "markdown",
   "id": "built-mentor",
   "metadata": {
    "papermill": {
     "duration": 0.047896,
     "end_time": "2021-06-18T05:36:48.003641",
     "exception": false,
     "start_time": "2021-06-18T05:36:47.955745",
     "status": "completed"
    },
    "tags": []
   },
   "source": [
    "# Differencing \n",
    "When building models to forecast time series data, another pre-processing step is differencing the data (calculating sequentially xt−xt−1) until we get to a point where the series is stationary. "
   ]
  },
  {
   "cell_type": "code",
   "execution_count": 23,
   "id": "suitable-bronze",
   "metadata": {
    "execution": {
     "iopub.execute_input": "2021-06-18T05:36:48.092512Z",
     "iopub.status.busy": "2021-06-18T05:36:48.091566Z",
     "iopub.status.idle": "2021-06-18T05:36:48.115323Z",
     "shell.execute_reply": "2021-06-18T05:36:48.115856Z",
     "shell.execute_reply.started": "2021-06-18T04:09:01.372238Z"
    },
    "papermill": {
     "duration": 0.070148,
     "end_time": "2021-06-18T05:36:48.116073",
     "exception": false,
     "start_time": "2021-06-18T05:36:48.045925",
     "status": "completed"
    },
    "tags": []
   },
   "outputs": [],
   "source": [
    "df_stationary = df.diff().dropna()"
   ]
  },
  {
   "cell_type": "code",
   "execution_count": 24,
   "id": "stunning-novelty",
   "metadata": {
    "execution": {
     "iopub.execute_input": "2021-06-18T05:36:48.201536Z",
     "iopub.status.busy": "2021-06-18T05:36:48.200537Z",
     "iopub.status.idle": "2021-06-18T05:36:48.438424Z",
     "shell.execute_reply": "2021-06-18T05:36:48.437772Z",
     "shell.execute_reply.started": "2021-06-18T04:09:15.219910Z"
    },
    "papermill": {
     "duration": 0.280342,
     "end_time": "2021-06-18T05:36:48.438606",
     "exception": false,
     "start_time": "2021-06-18T05:36:48.158264",
     "status": "completed"
    },
    "tags": []
   },
   "outputs": [
    {
     "data": {
      "image/png": "[encoded data removed]",
      "text/plain": [
       "<Figure size 432x288 with 1 Axes>"
      ]
     },
     "metadata": {
      "needs_background": "light"
     },
     "output_type": "display_data"
    }
   ],
   "source": [
    "df_stationary.plot();"
   ]
  },
  {
   "cell_type": "code",
   "execution_count": 25,
   "id": "greatest-inclusion",
   "metadata": {
    "execution": {
     "iopub.execute_input": "2021-06-18T05:36:48.541030Z",
     "iopub.status.busy": "2021-06-18T05:36:48.540381Z",
     "iopub.status.idle": "2021-06-18T05:36:48.685358Z",
     "shell.execute_reply": "2021-06-18T05:36:48.685771Z",
     "shell.execute_reply.started": "2021-06-18T04:09:48.102780Z"
    },
    "papermill": {
     "duration": 0.204751,
     "end_time": "2021-06-18T05:36:48.685984",
     "exception": false,
     "start_time": "2021-06-18T05:36:48.481233",
     "status": "completed"
    },
    "tags": []
   },
   "outputs": [
    {
     "data": {
      "image/png": "[encoded data removed]",
      "text/plain": [
       "<Figure size 432x288 with 1 Axes>"
      ]
     },
     "metadata": {
      "needs_background": "light"
     },
     "output_type": "display_data"
    }
   ],
   "source": [
    "plt.plot(df_stationary['open']);"
   ]
  },
  {
   "cell_type": "code",
   "execution_count": 26,
   "id": "outside-burton",
   "metadata": {
    "execution": {
     "iopub.execute_input": "2021-06-18T05:36:48.770017Z",
     "iopub.status.busy": "2021-06-18T05:36:48.769348Z",
     "iopub.status.idle": "2021-06-18T05:36:48.922398Z",
     "shell.execute_reply": "2021-06-18T05:36:48.922828Z",
     "shell.execute_reply.started": "2021-06-18T04:09:55.688847Z"
    },
    "papermill": {
     "duration": 0.197808,
     "end_time": "2021-06-18T05:36:48.923032",
     "exception": false,
     "start_time": "2021-06-18T05:36:48.725224",
     "status": "completed"
    },
    "tags": []
   },
   "outputs": [
    {
     "data": {
      "image/png": "[encoded data removed]",
      "text/plain": [
       "<Figure size 432x288 with 1 Axes>"
      ]
     },
     "metadata": {
      "needs_background": "light"
     },
     "output_type": "display_data"
    }
   ],
   "source": [
    "plt.plot(df_stationary['close']);"
   ]
  },
  {
   "cell_type": "code",
   "execution_count": 27,
   "id": "dietary-firmware",
   "metadata": {
    "execution": {
     "iopub.execute_input": "2021-06-18T05:36:49.009471Z",
     "iopub.status.busy": "2021-06-18T05:36:49.008610Z",
     "iopub.status.idle": "2021-06-18T05:36:49.193455Z",
     "shell.execute_reply": "2021-06-18T05:36:49.193909Z",
     "shell.execute_reply.started": "2021-06-18T04:10:01.851083Z"
    },
    "papermill": {
     "duration": 0.231005,
     "end_time": "2021-06-18T05:36:49.194123",
     "exception": false,
     "start_time": "2021-06-18T05:36:48.963118",
     "status": "completed"
    },
    "tags": []
   },
   "outputs": [
    {
     "data": {
      "image/png": "[encoded data removed]",
      "text/plain": [
       "<Figure size 432x288 with 1 Axes>"
      ]
     },
     "metadata": {
      "needs_background": "light"
     },
     "output_type": "display_data"
    }
   ],
   "source": [
    "plt.plot(df_stationary['high']);"
   ]
  },
  {
   "cell_type": "code",
   "execution_count": 24,
   "id": "neither-bride",
   "metadata": {
    "execution": {
     "iopub.execute_input": "2021-06-18T05:36:49.293073Z",
     "iopub.status.busy": "2021-06-18T05:36:49.292043Z",
     "iopub.status.idle": "2021-06-18T05:36:49.446314Z",
     "shell.execute_reply": "2021-06-18T05:36:49.446695Z",
     "shell.execute_reply.started": "2021-06-18T04:10:08.389126Z"
    },
    "papermill": {
     "duration": 0.20394,
     "end_time": "2021-06-18T05:36:49.446902",
     "exception": false,
     "start_time": "2021-06-18T05:36:49.242962",
     "status": "completed"
    },
    "tags": []
   },
   "outputs": [
    {
     "data": {
      "image/png": "[encoded data removed]",
      "text/plain": [
       "<Figure size 432x288 with 1 Axes>"
      ]
     },
     "metadata": {
      "needs_background": "light"
     },
     "output_type": "display_data"
    }
   ],
   "source": [
    "plt.plot(df_stationary['low']);"
   ]
  },
  {
   "cell_type": "code",
   "execution_count": 21,
   "id": "muslim-workstation",
   "metadata": {
    "execution": {
     "iopub.execute_input": "2021-06-18T05:36:49.535035Z",
     "iopub.status.busy": "2021-06-18T05:36:49.534014Z",
     "iopub.status.idle": "2021-06-18T05:36:49.686396Z",
     "shell.execute_reply": "2021-06-18T05:36:49.686887Z",
     "shell.execute_reply.started": "2021-06-18T04:10:22.768870Z"
    },
    "papermill": {
     "duration": 0.197478,
     "end_time": "2021-06-18T05:36:49.687084",
     "exception": false,
     "start_time": "2021-06-18T05:36:49.489606",
     "status": "completed"
    },
    "tags": []
   },
   "outputs": [
    {
     "data": {
      "image/png": "[encoded data removed]",
      "text/plain": [
       "<Figure size 432x288 with 1 Axes>"
      ]
     },
     "metadata": {
      "needs_background": "light"
     },
     "output_type": "display_data"
    }
   ],
   "source": [
    "plt.plot(df_stationary['volume']);"
   ]
  },
  {
   "cell_type": "code",
   "execution_count": 26,
   "id": "sonic-drive",
   "metadata": {
    "execution": {
     "iopub.execute_input": "2021-06-18T05:36:49.779236Z",
     "iopub.status.busy": "2021-06-18T05:36:49.778306Z",
     "iopub.status.idle": "2021-06-18T05:36:49.913514Z",
     "shell.execute_reply": "2021-06-18T05:36:49.913986Z",
     "shell.execute_reply.started": "2021-06-18T04:10:31.345342Z"
    },
    "papermill": {
     "duration": 0.184192,
     "end_time": "2021-06-18T05:36:49.914182",
     "exception": false,
     "start_time": "2021-06-18T05:36:49.729990",
     "status": "completed"
    },
    "tags": []
   },
   "outputs": [
    {
     "data": {
      "image/png": "[encoded data removed]",
      "text/plain": [
       "<Figure size 432x288 with 1 Axes>"
      ]
     },
     "metadata": {
      "needs_background": "light"
     },
     "output_type": "display_data"
    }
   ],
   "source": [
    "plt.plot(df_stationary['marketCap']);"
   ]
  },
  {
   "cell_type": "markdown",
   "id": "incorrect-cache",
   "metadata": {
    "papermill": {
     "duration": 0.046494,
     "end_time": "2021-06-18T05:36:50.002863",
     "exception": false,
     "start_time": "2021-06-18T05:36:49.956369",
     "status": "completed"
    },
    "tags": []
   },
   "source": [
    "# Price Forecasting\n",
    "\n",
    "\n",
    "## VAR Model\n",
    "Vector autoregression is a statistical model used to capture the relationship between multiple quantities as they change over time. VAR is a type of stochastic process model. VAR models generalize the single-variable autoregressive model by allowing for multivariate time series.\n",
    "Like the autoregressive model, each variable has an equation modelling its evolution over time. This equation includes the variable's lagged (past) values, the lagged values of the other variables in the model, and an error term. VAR models do not require as much knowledge about the forces influencing a variable as do structural models with simultaneous equations. The only prior knowledge required is a list of variables which can be hypothesized to affect each other over time.\n",
    "[Wikipedia](https://en.wikipedia.org/wiki/Vector_autoregression#:~:text=Vector%20autoregression%20(VAR)%20is%20a,allowing%20for%20multivariate%20time%20series.)"
   ]
  },
  {
   "cell_type": "code",
   "execution_count": 30,
   "id": "01e9484a",
   "metadata": {},
   "outputs": [
    {
     "data": {
      "text/plain": [
       "(99, 6)"
      ]
     },
     "execution_count": 30,
     "metadata": {},
     "output_type": "execute_result"
    }
   ],
   "source": [
    "df_stationary.shape"
   ]
  },
  {
   "cell_type": "code",
   "execution_count": 34,
   "id": "logical-setup",
   "metadata": {
    "execution": {
     "iopub.execute_input": "2021-06-18T05:36:50.097201Z",
     "iopub.status.busy": "2021-06-18T05:36:50.096358Z",
     "iopub.status.idle": "2021-06-18T05:36:50.099420Z",
     "shell.execute_reply": "2021-06-18T05:36:50.099873Z",
     "shell.execute_reply.started": "2021-06-18T05:06:11.964641Z"
    },
    "papermill": {
     "duration": 0.052887,
     "end_time": "2021-06-18T05:36:50.100086",
     "exception": false,
     "start_time": "2021-06-18T05:36:50.047199",
     "status": "completed"
    },
    "tags": []
   },
   "outputs": [],
   "source": [
    "train = df_stationary.iloc[:80]\n",
    "test = df_stationary.iloc[80:]"
   ]
  },
  {
   "cell_type": "code",
   "execution_count": 35,
   "id": "current-street",
   "metadata": {
    "execution": {
     "iopub.execute_input": "2021-06-18T05:36:50.195736Z",
     "iopub.status.busy": "2021-06-18T05:36:50.194958Z",
     "iopub.status.idle": "2021-06-18T05:36:50.199541Z",
     "shell.execute_reply": "2021-06-18T05:36:50.198919Z",
     "shell.execute_reply.started": "2021-06-18T05:06:12.299335Z"
    },
    "papermill": {
     "duration": 0.054713,
     "end_time": "2021-06-18T05:36:50.199694",
     "exception": false,
     "start_time": "2021-06-18T05:36:50.144981",
     "status": "completed"
    },
    "tags": []
   },
   "outputs": [
    {
     "data": {
      "text/plain": [
       "(80, 6)"
      ]
     },
     "execution_count": 35,
     "metadata": {},
     "output_type": "execute_result"
    }
   ],
   "source": [
    "train.shape"
   ]
  },
  {
   "cell_type": "code",
   "execution_count": 36,
   "id": "quiet-bunch",
   "metadata": {
    "execution": {
     "iopub.execute_input": "2021-06-18T05:36:50.298242Z",
     "iopub.status.busy": "2021-06-18T05:36:50.297391Z",
     "iopub.status.idle": "2021-06-18T05:36:50.302033Z",
     "shell.execute_reply": "2021-06-18T05:36:50.301437Z",
     "shell.execute_reply.started": "2021-06-18T05:06:12.713695Z"
    },
    "papermill": {
     "duration": 0.056116,
     "end_time": "2021-06-18T05:36:50.302209",
     "exception": false,
     "start_time": "2021-06-18T05:36:50.246093",
     "status": "completed"
    },
    "tags": []
   },
   "outputs": [
    {
     "data": {
      "text/plain": [
       "(19, 6)"
      ]
     },
     "execution_count": 36,
     "metadata": {},
     "output_type": "execute_result"
    }
   ],
   "source": [
    "test.shape"
   ]
  },
  {
   "cell_type": "code",
   "execution_count": 37,
   "id": "loving-shore",
   "metadata": {
    "execution": {
     "iopub.execute_input": "2021-06-18T05:36:50.399297Z",
     "iopub.status.busy": "2021-06-18T05:36:50.398596Z",
     "iopub.status.idle": "2021-06-18T05:36:50.449603Z",
     "shell.execute_reply": "2021-06-18T05:36:50.448709Z",
     "shell.execute_reply.started": "2021-06-18T04:57:54.665652Z"
    },
    "papermill": {
     "duration": 0.104314,
     "end_time": "2021-06-18T05:36:50.449884",
     "exception": false,
     "start_time": "2021-06-18T05:36:50.345570",
     "status": "completed"
    },
    "tags": []
   },
   "outputs": [
    {
     "ename": "ValueError",
     "evalue": "maxlags is too large for the number of observations and the number of equations. The largest model cannot be estimated.",
     "output_type": "error",
     "traceback": [
      "\u001b[1;31m---------------------------------------------------------------------------\u001b[0m",
      "\u001b[1;31mValueError\u001b[0m                                Traceback (most recent call last)",
      "\u001b[1;32md:\\INPT3\\Project-INE3\\Project DATA\\crypto-market-analysis-prediction-using-var.ipynb Cell 41\u001b[0m in \u001b[0;36m<module>\u001b[1;34m\u001b[0m\n\u001b[0;32m      <a href='vscode-notebook-cell:/d%3A/INPT3/Project-INE3/Project%20DATA/crypto-market-analysis-prediction-using-var.ipynb#X53sZmlsZQ%3D%3D?line=0'>1</a>\u001b[0m forecasting_model \u001b[39m=\u001b[39m VAR(train)\n\u001b[1;32m----> <a href='vscode-notebook-cell:/d%3A/INPT3/Project-INE3/Project%20DATA/crypto-market-analysis-prediction-using-var.ipynb#X53sZmlsZQ%3D%3D?line=1'>2</a>\u001b[0m x \u001b[39m=\u001b[39m forecasting_model\u001b[39m.\u001b[39;49mselect_order(maxlags\u001b[39m=\u001b[39;49m\u001b[39m12\u001b[39;49m)\n\u001b[0;32m      <a href='vscode-notebook-cell:/d%3A/INPT3/Project-INE3/Project%20DATA/crypto-market-analysis-prediction-using-var.ipynb#X53sZmlsZQ%3D%3D?line=2'>3</a>\u001b[0m x\u001b[39m.\u001b[39msummary()\n",
      "File \u001b[1;32mc:\\Users\\user\\AppData\\Local\\Programs\\Python\\Python310\\lib\\site-packages\\statsmodels\\tsa\\vector_ar\\var_model.py:813\u001b[0m, in \u001b[0;36mVAR.select_order\u001b[1;34m(self, maxlags, trend)\u001b[0m\n\u001b[0;32m    811\u001b[0m \u001b[39melse\u001b[39;00m:\n\u001b[0;32m    812\u001b[0m     \u001b[39mif\u001b[39;00m maxlags \u001b[39m>\u001b[39m max_estimable:\n\u001b[1;32m--> 813\u001b[0m         \u001b[39mraise\u001b[39;00m \u001b[39mValueError\u001b[39;00m(\n\u001b[0;32m    814\u001b[0m             \u001b[39m\"\u001b[39m\u001b[39mmaxlags is too large for the number of observations and \u001b[39m\u001b[39m\"\u001b[39m\n\u001b[0;32m    815\u001b[0m             \u001b[39m\"\u001b[39m\u001b[39mthe number of equations. The largest model cannot be \u001b[39m\u001b[39m\"\u001b[39m\n\u001b[0;32m    816\u001b[0m             \u001b[39m\"\u001b[39m\u001b[39mestimated.\u001b[39m\u001b[39m\"\u001b[39m\n\u001b[0;32m    817\u001b[0m         )\n\u001b[0;32m    819\u001b[0m ics \u001b[39m=\u001b[39m defaultdict(\u001b[39mlist\u001b[39m)\n\u001b[0;32m    820\u001b[0m p_min \u001b[39m=\u001b[39m \u001b[39m0\u001b[39m \u001b[39mif\u001b[39;00m \u001b[39mself\u001b[39m\u001b[39m.\u001b[39mexog \u001b[39mis\u001b[39;00m \u001b[39mnot\u001b[39;00m \u001b[39mNone\u001b[39;00m \u001b[39mor\u001b[39;00m trend \u001b[39m!=\u001b[39m \u001b[39m\"\u001b[39m\u001b[39mn\u001b[39m\u001b[39m\"\u001b[39m \u001b[39melse\u001b[39;00m \u001b[39m1\u001b[39m\n",
      "\u001b[1;31mValueError\u001b[0m: maxlags is too large for the number of observations and the number of equations. The largest model cannot be estimated."
     ]
    }
   ],
   "source": [
    "forecasting_model = VAR(train)\n",
    "x = forecasting_model.select_order(maxlags=12)\n",
    "x.summary()"
   ]
  },
  {
   "cell_type": "code",
   "execution_count": 31,
   "id": "lesser-chinese",
   "metadata": {
    "execution": {
     "iopub.execute_input": "2021-06-18T05:36:50.597713Z",
     "iopub.status.busy": "2021-06-18T05:36:50.597091Z",
     "iopub.status.idle": "2021-06-18T05:36:50.632066Z",
     "shell.execute_reply": "2021-06-18T05:36:50.632924Z",
     "shell.execute_reply.started": "2021-06-18T05:01:48.903096Z"
    },
    "papermill": {
     "duration": 0.095704,
     "end_time": "2021-06-18T05:36:50.633262",
     "exception": false,
     "start_time": "2021-06-18T05:36:50.537558",
     "status": "completed"
    },
    "tags": []
   },
   "outputs": [
    {
     "data": {
      "text/plain": [
       "  Summary of Regression Results   \n",
       "==================================\n",
       "Model:                         VAR\n",
       "Method:                        OLS\n",
       "Date:           Fri, 18, Jun, 2021\n",
       "Time:                     05:36:50\n",
       "--------------------------------------------------------------------\n",
       "No. of Equations:         6.00000    BIC:                   -44.7412\n",
       "Nobs:                     254.000    HQIC:                  -45.0908\n",
       "Log likelihood:           3635.95    FPE:                2.06612e-20\n",
       "AIC:                     -45.3261    Det(Omega_mle):     1.75515e-20\n",
       "--------------------------------------------------------------------\n",
       "Results for equation open\n",
       "====================================================================================\n",
       "                  coefficient       std. error                t-stat            prob\n",
       "------------------------------------------------------------------------------------\n",
       "const               -0.000000         0.000000                -1.816           0.069\n",
       "L1.open             -0.000000         0.000000                -8.000           0.000\n",
       "L1.high              0.000000         0.000000                 8.524           0.000\n",
       "L1.low              -0.000000         0.000000                -3.848           0.000\n",
       "L1.close             1.000000         0.000000  7496147372523864.000           0.000\n",
       "L1.volume           -0.000000         0.000000                -5.942           0.000\n",
       "L1.marketCap        -0.000000         0.000000                -5.320           0.000\n",
       "====================================================================================\n",
       "\n",
       "Results for equation high\n",
       "===============================================================================\n",
       "                  coefficient       std. error           t-stat            prob\n",
       "-------------------------------------------------------------------------------\n",
       "const                0.000426         0.000342            1.245           0.213\n",
       "L1.open             -0.334941         0.089650           -3.736           0.000\n",
       "L1.high             -0.389202         0.089540           -4.347           0.000\n",
       "L1.low               0.239894         0.090577            2.649           0.008\n",
       "L1.close            -0.093368         0.148938           -0.627           0.531\n",
       "L1.volume            0.000000         0.000000            3.617           0.000\n",
       "L1.marketCap         0.000000         0.000000            6.968           0.000\n",
       "===============================================================================\n",
       "\n",
       "Results for equation low\n",
       "===============================================================================\n",
       "                  coefficient       std. error           t-stat            prob\n",
       "-------------------------------------------------------------------------------\n",
       "const                0.000197         0.000281            0.702           0.483\n",
       "L1.open              0.053623         0.073664            0.728           0.467\n",
       "L1.high             -0.277211         0.073574           -3.768           0.000\n",
       "L1.low              -0.205951         0.074426           -2.767           0.006\n",
       "L1.close             0.188558         0.122380            1.541           0.123\n",
       "L1.volume            0.000000         0.000000            6.590           0.000\n",
       "L1.marketCap         0.000000         0.000000            5.339           0.000\n",
       "===============================================================================\n",
       "\n",
       "Results for equation close\n",
       "===============================================================================\n",
       "                  coefficient       std. error           t-stat            prob\n",
       "-------------------------------------------------------------------------------\n",
       "const                0.000632         0.000307            2.057           0.040\n",
       "L1.open             -0.136107         0.080446           -1.692           0.091\n",
       "L1.high              0.162107         0.080347            2.018           0.044\n",
       "L1.low               0.229960         0.081278            2.829           0.005\n",
       "L1.close            -0.490443         0.133647           -3.670           0.000\n",
       "L1.volume            0.000000         0.000000            1.818           0.069\n",
       "L1.marketCap         0.000000         0.000000            3.124           0.002\n",
       "===============================================================================\n",
       "\n",
       "Results for equation volume\n",
       "====================================================================================\n",
       "                     coefficient         std. error           t-stat            prob\n",
       "------------------------------------------------------------------------------------\n",
       "const             1655096.126418     3068227.883414            0.539           0.590\n",
       "L1.open       -5918941754.065879   803701090.778264           -7.365           0.000\n",
       "L1.high        3582111759.481435   802716538.730825            4.462           0.000\n",
       "L1.low        -1669897913.009130   812011771.068527           -2.056           0.040\n",
       "L1.close      -3475913456.564016  1335209951.306225           -2.603           0.009\n",
       "L1.volume              -0.331628           0.066098           -5.017           0.000\n",
       "L1.marketCap            1.778942           0.283745            6.270           0.000\n",
       "====================================================================================\n",
       "\n",
       "Results for equation marketCap\n",
       "==================================================================================\n",
       "                    coefficient        std. error           t-stat            prob\n",
       "----------------------------------------------------------------------------------\n",
       "const            3079018.652960    1363652.160641            2.258           0.024\n",
       "L1.open       -378883916.150195  357199259.831252           -1.061           0.289\n",
       "L1.high        468954127.951902  356761682.644104            1.314           0.189\n",
       "L1.low        1468696487.630008  360892882.849110            4.070           0.000\n",
       "L1.close       184481455.634362  593424609.967948            0.311           0.756\n",
       "L1.volume              0.075200          0.029377            2.560           0.010\n",
       "L1.marketCap          -0.084893          0.126109           -0.673           0.501\n",
       "==================================================================================\n",
       "\n",
       "Correlation matrix of residuals\n",
       "                 open      high       low     close    volume  marketCap\n",
       "open         1.000000 -0.005343 -0.006747 -0.006120 -0.020243  -0.001503\n",
       "high        -0.005343  1.000000  0.516282  0.625369  0.607915   0.563483\n",
       "low         -0.006747  0.516282  1.000000  0.389368  0.170305   0.403435\n",
       "close       -0.006120  0.625369  0.389368  1.000000  0.385144   0.881440\n",
       "volume      -0.020243  0.607915  0.170305  0.385144  1.000000   0.294298\n",
       "marketCap   -0.001503  0.563483  0.403435  0.881440  0.294298   1.000000\n",
       "\n"
      ]
     },
     "execution_count": 31,
     "metadata": {},
     "output_type": "execute_result"
    }
   ],
   "source": [
    "results = forecasting_model.fit(1)\n",
    "results.summary()"
   ]
  },
  {
   "cell_type": "code",
   "execution_count": 32,
   "id": "affected-serve",
   "metadata": {
    "execution": {
     "iopub.execute_input": "2021-06-18T05:36:50.772753Z",
     "iopub.status.busy": "2021-06-18T05:36:50.772153Z",
     "iopub.status.idle": "2021-06-18T05:36:50.788235Z",
     "shell.execute_reply": "2021-06-18T05:36:50.788648Z",
     "shell.execute_reply.started": "2021-06-18T05:07:20.460049Z"
    },
    "papermill": {
     "duration": 0.067539,
     "end_time": "2021-06-18T05:36:50.788884",
     "exception": false,
     "start_time": "2021-06-18T05:36:50.721345",
     "status": "completed"
    },
    "tags": []
   },
   "outputs": [
    {
     "data": {
      "text/html": [
       "<div>\n",
       "<style scoped>\n",
       "    .dataframe tbody tr th:only-of-type {\n",
       "        vertical-align: middle;\n",
       "    }\n",
       "\n",
       "    .dataframe tbody tr th {\n",
       "        vertical-align: top;\n",
       "    }\n",
       "\n",
       "    .dataframe thead th {\n",
       "        text-align: right;\n",
       "    }\n",
       "</style>\n",
       "<table border=\"1\" class=\"dataframe\">\n",
       "  <thead>\n",
       "    <tr style=\"text-align: right;\">\n",
       "      <th></th>\n",
       "      <th>open</th>\n",
       "      <th>high</th>\n",
       "      <th>low</th>\n",
       "      <th>close</th>\n",
       "      <th>volume</th>\n",
       "      <th>marketCap</th>\n",
       "    </tr>\n",
       "    <tr>\n",
       "      <th>date</th>\n",
       "      <th></th>\n",
       "      <th></th>\n",
       "      <th></th>\n",
       "      <th></th>\n",
       "      <th></th>\n",
       "      <th></th>\n",
       "    </tr>\n",
       "  </thead>\n",
       "  <tbody>\n",
       "    <tr>\n",
       "      <th>2021-03-01 23:59:59.999000+00:00</th>\n",
       "      <td>0.030000</td>\n",
       "      <td>0.026021</td>\n",
       "      <td>0.035461</td>\n",
       "      <td>-0.005232</td>\n",
       "      <td>1.203635e+08</td>\n",
       "      <td>-3.142944e+07</td>\n",
       "    </tr>\n",
       "    <tr>\n",
       "      <th>2021-03-02 23:59:59.999000+00:00</th>\n",
       "      <td>-0.005232</td>\n",
       "      <td>-0.014476</td>\n",
       "      <td>-0.013256</td>\n",
       "      <td>0.010146</td>\n",
       "      <td>-2.195612e+08</td>\n",
       "      <td>6.675096e+07</td>\n",
       "    </tr>\n",
       "    <tr>\n",
       "      <th>2021-03-03 23:59:59.999000+00:00</th>\n",
       "      <td>0.010146</td>\n",
       "      <td>0.012552</td>\n",
       "      <td>0.009076</td>\n",
       "      <td>-0.005745</td>\n",
       "      <td>1.591990e+08</td>\n",
       "      <td>-4.150145e+07</td>\n",
       "    </tr>\n",
       "    <tr>\n",
       "      <th>2021-03-04 23:59:59.999000+00:00</th>\n",
       "      <td>-0.005745</td>\n",
       "      <td>-0.010051</td>\n",
       "      <td>-0.005097</td>\n",
       "      <td>0.004422</td>\n",
       "      <td>-1.352486e+08</td>\n",
       "      <td>3.288557e+07</td>\n",
       "    </tr>\n",
       "    <tr>\n",
       "      <th>2021-03-05 23:59:59.999000+00:00</th>\n",
       "      <td>0.004422</td>\n",
       "      <td>0.008272</td>\n",
       "      <td>0.003726</td>\n",
       "      <td>-0.002265</td>\n",
       "      <td>9.614944e+07</td>\n",
       "      <td>-1.909067e+07</td>\n",
       "    </tr>\n",
       "    <tr>\n",
       "      <th>...</th>\n",
       "      <td>...</td>\n",
       "      <td>...</td>\n",
       "      <td>...</td>\n",
       "      <td>...</td>\n",
       "      <td>...</td>\n",
       "      <td>...</td>\n",
       "    </tr>\n",
       "    <tr>\n",
       "      <th>2021-06-13 23:59:59.999000+00:00</th>\n",
       "      <td>0.000822</td>\n",
       "      <td>0.000887</td>\n",
       "      <td>0.000692</td>\n",
       "      <td>0.000822</td>\n",
       "      <td>2.557257e+06</td>\n",
       "      <td>4.187908e+06</td>\n",
       "    </tr>\n",
       "    <tr>\n",
       "      <th>2021-06-14 23:59:59.999000+00:00</th>\n",
       "      <td>0.000822</td>\n",
       "      <td>0.000887</td>\n",
       "      <td>0.000692</td>\n",
       "      <td>0.000822</td>\n",
       "      <td>2.557257e+06</td>\n",
       "      <td>4.187908e+06</td>\n",
       "    </tr>\n",
       "    <tr>\n",
       "      <th>2021-06-15 23:59:59.999000+00:00</th>\n",
       "      <td>0.000822</td>\n",
       "      <td>0.000887</td>\n",
       "      <td>0.000692</td>\n",
       "      <td>0.000822</td>\n",
       "      <td>2.557257e+06</td>\n",
       "      <td>4.187908e+06</td>\n",
       "    </tr>\n",
       "    <tr>\n",
       "      <th>2021-06-16 23:59:59.999000+00:00</th>\n",
       "      <td>0.000822</td>\n",
       "      <td>0.000887</td>\n",
       "      <td>0.000692</td>\n",
       "      <td>0.000822</td>\n",
       "      <td>2.557257e+06</td>\n",
       "      <td>4.187908e+06</td>\n",
       "    </tr>\n",
       "    <tr>\n",
       "      <th>2021-06-17 23:59:59.999000+00:00</th>\n",
       "      <td>0.000822</td>\n",
       "      <td>0.000887</td>\n",
       "      <td>0.000692</td>\n",
       "      <td>0.000822</td>\n",
       "      <td>2.557257e+06</td>\n",
       "      <td>4.187908e+06</td>\n",
       "    </tr>\n",
       "  </tbody>\n",
       "</table>\n",
       "<p>109 rows × 6 columns</p>\n",
       "</div>"
      ],
      "text/plain": [
       "                                      open      high       low     close  \\\n",
       "date                                                                       \n",
       "2021-03-01 23:59:59.999000+00:00  0.030000  0.026021  0.035461 -0.005232   \n",
       "2021-03-02 23:59:59.999000+00:00 -0.005232 -0.014476 -0.013256  0.010146   \n",
       "2021-03-03 23:59:59.999000+00:00  0.010146  0.012552  0.009076 -0.005745   \n",
       "2021-03-04 23:59:59.999000+00:00 -0.005745 -0.010051 -0.005097  0.004422   \n",
       "2021-03-05 23:59:59.999000+00:00  0.004422  0.008272  0.003726 -0.002265   \n",
       "...                                    ...       ...       ...       ...   \n",
       "2021-06-13 23:59:59.999000+00:00  0.000822  0.000887  0.000692  0.000822   \n",
       "2021-06-14 23:59:59.999000+00:00  0.000822  0.000887  0.000692  0.000822   \n",
       "2021-06-15 23:59:59.999000+00:00  0.000822  0.000887  0.000692  0.000822   \n",
       "2021-06-16 23:59:59.999000+00:00  0.000822  0.000887  0.000692  0.000822   \n",
       "2021-06-17 23:59:59.999000+00:00  0.000822  0.000887  0.000692  0.000822   \n",
       "\n",
       "                                        volume     marketCap  \n",
       "date                                                          \n",
       "2021-03-01 23:59:59.999000+00:00  1.203635e+08 -3.142944e+07  \n",
       "2021-03-02 23:59:59.999000+00:00 -2.195612e+08  6.675096e+07  \n",
       "2021-03-03 23:59:59.999000+00:00  1.591990e+08 -4.150145e+07  \n",
       "2021-03-04 23:59:59.999000+00:00 -1.352486e+08  3.288557e+07  \n",
       "2021-03-05 23:59:59.999000+00:00  9.614944e+07 -1.909067e+07  \n",
       "...                                        ...           ...  \n",
       "2021-06-13 23:59:59.999000+00:00  2.557257e+06  4.187908e+06  \n",
       "2021-06-14 23:59:59.999000+00:00  2.557257e+06  4.187908e+06  \n",
       "2021-06-15 23:59:59.999000+00:00  2.557257e+06  4.187908e+06  \n",
       "2021-06-16 23:59:59.999000+00:00  2.557257e+06  4.187908e+06  \n",
       "2021-06-17 23:59:59.999000+00:00  2.557257e+06  4.187908e+06  \n",
       "\n",
       "[109 rows x 6 columns]"
      ]
     },
     "execution_count": 32,
     "metadata": {},
     "output_type": "execute_result"
    }
   ],
   "source": [
    "lag_order = results.k_ar\n",
    "\n",
    "laaged_values = train.values[-lag_order:]\n",
    "forecast = pd.DataFrame(results.forecast(y= laaged_values, steps=109), index = test.index,columns = ['open','high','low','close','volume','marketCap'])\n",
    "forecast"
   ]
  },
  {
   "cell_type": "code",
   "execution_count": 33,
   "id": "loved-somalia",
   "metadata": {
    "execution": {
     "iopub.execute_input": "2021-06-18T05:36:50.888619Z",
     "iopub.status.busy": "2021-06-18T05:36:50.887990Z",
     "iopub.status.idle": "2021-06-18T05:36:50.891791Z",
     "shell.execute_reply": "2021-06-18T05:36:50.892374Z",
     "shell.execute_reply.started": "2021-06-18T05:24:58.275507Z"
    },
    "papermill": {
     "duration": 0.059247,
     "end_time": "2021-06-18T05:36:50.892569",
     "exception": false,
     "start_time": "2021-06-18T05:36:50.833322",
     "status": "completed"
    },
    "tags": []
   },
   "outputs": [],
   "source": [
    "forecast_inverse = forecast.cumsum()"
   ]
  },
  {
   "cell_type": "markdown",
   "id": "invisible-mercy",
   "metadata": {
    "papermill": {
     "duration": 0.046268,
     "end_time": "2021-06-18T05:36:50.985996",
     "exception": false,
     "start_time": "2021-06-18T05:36:50.939728",
     "status": "completed"
    },
    "tags": []
   },
   "source": [
    "# Evaluate the Forecasts"
   ]
  },
  {
   "cell_type": "code",
   "execution_count": 34,
   "id": "optional-commonwealth",
   "metadata": {
    "execution": {
     "iopub.execute_input": "2021-06-18T05:36:51.081966Z",
     "iopub.status.busy": "2021-06-18T05:36:51.081266Z",
     "iopub.status.idle": "2021-06-18T05:36:51.089515Z",
     "shell.execute_reply": "2021-06-18T05:36:51.089999Z",
     "shell.execute_reply.started": "2021-06-18T05:26:02.709082Z"
    },
    "papermill": {
     "duration": 0.057606,
     "end_time": "2021-06-18T05:36:51.090248",
     "exception": false,
     "start_time": "2021-06-18T05:36:51.032642",
     "status": "completed"
    },
    "tags": []
   },
   "outputs": [],
   "source": [
    "from statsmodels.tsa.stattools import acf\n",
    "def forecast_accuracy(forecast, actual):\n",
    "    mape = np.mean(np.abs(forecast - actual)/np.abs(actual))  # MAPE\n",
    "    me = np.mean(forecast - actual)             # ME\n",
    "    mae = np.mean(np.abs(forecast - actual))    # MAE\n",
    "    mpe = np.mean((forecast - actual)/actual)   # MPE\n",
    "    rmse = np.mean((forecast - actual)**2)**.5  # RMSE\n",
    "    corr = np.corrcoef(forecast, actual)[0,1]   # corr\n",
    "    mins = np.amin(np.hstack([forecast[:,None], \n",
    "                              actual[:,None]]), axis=1)\n",
    "    maxs = np.amax(np.hstack([forecast[:,None], \n",
    "                              actual[:,None]]), axis=1)\n",
    "    minmax = 1 - np.mean(mins/maxs)             # minmax\n",
    "    return({'mape':mape, 'me':me, 'mae': mae, \n",
    "            'mpe': mpe, 'rmse':rmse, 'corr':corr, 'minmax':minmax})"
   ]
  },
  {
   "cell_type": "code",
   "execution_count": 35,
   "id": "above-glossary",
   "metadata": {
    "execution": {
     "iopub.execute_input": "2021-06-18T05:36:51.188591Z",
     "iopub.status.busy": "2021-06-18T05:36:51.187884Z",
     "iopub.status.idle": "2021-06-18T05:36:51.237564Z",
     "shell.execute_reply": "2021-06-18T05:36:51.237988Z",
     "shell.execute_reply.started": "2021-06-18T05:33:43.258962Z"
    },
    "papermill": {
     "duration": 0.100694,
     "end_time": "2021-06-18T05:36:51.238202",
     "exception": false,
     "start_time": "2021-06-18T05:36:51.137508",
     "status": "completed"
    },
    "tags": []
   },
   "outputs": [
    {
     "name": "stdout",
     "output_type": "stream",
     "text": [
      "Forecast Accuracy of: open\n",
      "mape  :  inf\n",
      "me  :  0.06103078815062737\n",
      "mae  :  0.11049739658236693\n",
      "mpe  :  inf\n",
      "rmse  :  0.17211052319479025\n",
      "corr  :  0.001758836710041211\n",
      "minmax  :  1.2006262726965111\n",
      "Forecast Accuracy of: close\n",
      "mape  :  inf\n",
      "me  :  0.03192951267883104\n",
      "mae  :  0.09574577584290393\n",
      "mpe  :  inf\n",
      "rmse  :  0.162877020131308\n",
      "corr  :  0.004412386113930464\n",
      "minmax  :  1.4881447989808685\n",
      "Forecast Accuracy of: high\n",
      "mape  :  inf\n",
      "me  :  0.05129285144662431\n",
      "mae  :  0.10969064356317275\n",
      "mpe  :  inf\n",
      "rmse  :  0.17190269737769165\n",
      "corr  :  -0.005159257683334315\n",
      "minmax  :  1.274969319134256\n",
      "Forecast Accuracy of: low\n",
      "mape  :  inf\n",
      "me  :  0.051300258075914464\n",
      "mae  :  0.09095956495653684\n",
      "mpe  :  inf\n",
      "rmse  :  0.13729038452597886\n",
      "corr  :  0.01901245731548698\n",
      "minmax  :  1.1605686160959845\n",
      "Forecast Accuracy of: volume\n",
      "mape  :  6.2006992152763765\n",
      "me  :  110266178.990089\n",
      "mae  :  647314562.3227189\n",
      "mpe  :  2.7536349890570286\n",
      "rmse  :  1130982372.5629303\n",
      "corr  :  -0.016331712178946765\n",
      "minmax  :  3.316300298912994\n",
      "Forecast Accuracy of: marketCap\n",
      "mape  :  2.0031665921956936\n",
      "me  :  149408788.01586166\n",
      "mae  :  558269196.105566\n",
      "mpe  :  -0.777950483758405\n",
      "rmse  :  989828666.474588\n",
      "corr  :  0.01282577085474876\n",
      "minmax  :  1.5565296816240561\n"
     ]
    }
   ],
   "source": [
    "print('Forecast Accuracy of: open')\n",
    "accuracy_prod = forecast_accuracy(forecast_inverse['open'].values, test['open'])\n",
    "for key in accuracy_prod:\n",
    "    print(key, ' : ', accuracy_prod[key])\n",
    "    \n",
    "print('Forecast Accuracy of: close')\n",
    "accuracy_prod = forecast_accuracy(forecast_inverse['close'].values, test['close'])\n",
    "for key in accuracy_prod:\n",
    "    print(key, ' : ', accuracy_prod[key])\n",
    "\n",
    "print('Forecast Accuracy of: high')\n",
    "accuracy_prod = forecast_accuracy(forecast_inverse['high'].values, test['high'])\n",
    "for key in accuracy_prod:\n",
    "    print(key, ' : ', accuracy_prod[key])\n",
    "    \n",
    "print('Forecast Accuracy of: low')\n",
    "accuracy_prod = forecast_accuracy(forecast_inverse['low'].values, test['low'])\n",
    "for key in accuracy_prod:\n",
    "    print(key, ' : ', accuracy_prod[key])\n",
    "\n",
    "print('Forecast Accuracy of: volume')\n",
    "accuracy_prod = forecast_accuracy(forecast_inverse['volume'].values, test['volume'])\n",
    "for key in accuracy_prod:\n",
    "    print(key, ' : ', accuracy_prod[key])\n",
    "    \n",
    "print('Forecast Accuracy of: marketCap')\n",
    "accuracy_prod = forecast_accuracy(forecast_inverse['marketCap'].values, test['marketCap'])\n",
    "for key in accuracy_prod:\n",
    "    print(key, ' : ', accuracy_prod[key])\n",
    "    "
   ]
  },
  {
   "cell_type": "code",
   "execution_count": null,
   "id": "administrative-referral",
   "metadata": {
    "papermill": {
     "duration": 0.044332,
     "end_time": "2021-06-18T05:36:51.329290",
     "exception": false,
     "start_time": "2021-06-18T05:36:51.284958",
     "status": "completed"
    },
    "tags": []
   },
   "outputs": [],
   "source": []
  }
 ],
 "metadata": {
  "kernelspec": {
   "display_name": "Python 3",
   "language": "python",
   "name": "python3"
  },
  "language_info": {
   "codemirror_mode": {
    "name": "ipython",
    "version": 3
   },
   "file_extension": ".py",
   "mimetype": "text/x-python",
   "name": "python",
   "nbconvert_exporter": "python",
   "pygments_lexer": "ipython3",
   "version": "3.10.5"
  },
  "papermill": {
   "default_parameters": {},
   "duration": 34.874648,
   "end_time": "2021-06-18T05:36:52.386325",
   "environment_variables": {},
   "exception": null,
   "input_path": "__notebook__.ipynb",
   "output_path": "__notebook__.ipynb",
   "parameters": {},
   "start_time": "2021-06-18T05:36:17.511677",
   "version": "2.3.3"
  },
  "vscode": {
   "interpreter": {
    "hash": "fb4569285eef3a3450cb62085a5b1e0da4bce0af555edc33dcf29baf3acc1368"
   }
  }
 },
 "nbformat": 4,
 "nbformat_minor": 5
}
